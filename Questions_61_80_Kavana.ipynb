{
 "cells": [
  {
   "cell_type": "markdown",
   "id": "7fd8e13d",
   "metadata": {},
   "source": [
    "# Importing libraries"
   ]
  },
  {
   "cell_type": "code",
   "execution_count": 56,
   "id": "98caa196",
   "metadata": {},
   "outputs": [],
   "source": [
    "# Import the required libraries\n",
    "\n",
    "import pandas as pd\n",
    "import numpy as np\n",
    "\n",
    "import re\n",
    "import datetime\n",
    "\n",
    "import seaborn as sns\n",
    "import matplotlib.pyplot as plt\n",
    "\n",
    "from pandas import ExcelWriter\n",
    "from pandas import ExcelFile"
   ]
  },
  {
   "cell_type": "markdown",
   "id": "7ce8a767",
   "metadata": {},
   "source": [
    "# Q76. Reverse the string without using inbuilt functions."
   ]
  },
  {
   "cell_type": "code",
   "execution_count": null,
   "id": "12511caa",
   "metadata": {},
   "outputs": [],
   "source": [
    "# Reversing a string by slicing\n",
    "\n",
    "def reverseStr(s):\n",
    "    s = s[::-1]\n",
    "    return s\n",
    "  \n",
    "string = \"ThePythonHackathon\"\n",
    "  \n",
    "print(\"The initial string is : \", end=\"\")\n",
    "print(string)\n",
    "  \n",
    "print(\"The string after being reversed is : \", end=\"\")\n",
    "print(reverseStr(string))"
   ]
  },
  {
   "cell_type": "markdown",
   "id": "352de3e0",
   "metadata": {},
   "source": [
    "# Q62. Display the data for all 'White Female' patients above the age of 50."
   ]
  },
  {
   "cell_type": "code",
   "execution_count": null,
   "id": "0f98fafd",
   "metadata": {},
   "outputs": [],
   "source": [
    "# Creating and reading a dataset from an excel.\n",
    "\n",
    "df=pd.read_excel('HospitalDatabase .xlsx')"
   ]
  },
  {
   "cell_type": "code",
   "execution_count": null,
   "id": "9750bf46",
   "metadata": {},
   "outputs": [],
   "source": [
    "current_date = datetime.datetime.now()\n",
    "print(current_date)"
   ]
  },
  {
   "cell_type": "code",
   "execution_count": null,
   "id": "a224494a",
   "metadata": {},
   "outputs": [],
   "source": [
    "# Filtering data that matches requirement in Q76.) \n",
    "\n",
    "current_date = datetime.datetime.now()\n",
    "df_filt_1 = (df['Gender'] == 'Female') & (df['Race'] == 'White')\n",
    "df[df_filt_1]"
   ]
  },
  {
   "cell_type": "code",
   "execution_count": null,
   "id": "29f368de",
   "metadata": {},
   "outputs": [],
   "source": [
    "df_filt_1['Age'] = current_date - df['DateOfBirth']\n",
    "df[df_filt_1]"
   ]
  },
  {
   "cell_type": "code",
   "execution_count": null,
   "id": "b5e63f3c",
   "metadata": {},
   "outputs": [],
   "source": [
    "df_filt_1['DateOfBirth'] = pd.to_dateime(df_filt_1['DateOfBirth'], format = '%Y-%m-%d %I-%p')\n",
    "df_filt_1['DateOfBirth'] = pd.to_dateime(df_filt_1)\n",
    "df_filt_1['Year'] = df_filt_1['DateOfBirth'].dt.year\n",
    "df_filt_1['Age'] = current_date - df_filt_Dob['Year']"
   ]
  },
  {
   "cell_type": "code",
   "execution_count": null,
   "id": "cbabd4e5",
   "metadata": {},
   "outputs": [],
   "source": [
    "df.loc[df_filt_1]"
   ]
  },
  {
   "cell_type": "markdown",
   "id": "c84e8664",
   "metadata": {},
   "source": [
    "# Q63.) Using loc, retrieve the firstname and lastname of patients between indices 101 and 200."
   ]
  },
  {
   "cell_type": "code",
   "execution_count": null,
   "id": "c941794b",
   "metadata": {},
   "outputs": [],
   "source": [
    "# Using loc\n",
    "df_filt_2 = df.loc['101':'200', 'FirstName':'LastName']\n",
    "df_filt_2"
   ]
  },
  {
   "cell_type": "markdown",
   "id": "aed9bf5d",
   "metadata": {},
   "source": [
    "# Q74:Get the list of ReasonForVisit."
   ]
  },
  {
   "cell_type": "code",
   "execution_count": null,
   "id": "84d25b57",
   "metadata": {},
   "outputs": [],
   "source": [
    "# Get a unqiue coloumn data into list\n",
    "df_EDvisits = pd.read_excel('HospitalDatabase .xlsx', 'EDVisits')\n",
    "list_EDvisits = list(df_EDvisits.ReasonForVisit.unique())\n",
    "print(list_EDvisits)"
   ]
  },
  {
   "cell_type": "markdown",
   "id": "834bfcd4",
   "metadata": {},
   "source": [
    "# Q78:Find reasonForVisit with highest count of acuity 5 patients."
   ]
  },
  {
   "cell_type": "code",
   "execution_count": null,
   "id": "1eb0ad4e",
   "metadata": {},
   "outputs": [],
   "source": [
    "# data od patients with acuity = 5\n",
    "df_acuity = (df_EDvisits['Acuity'] == 5)\n",
    "df_EDvisits[df_acuity]"
   ]
  },
  {
   "cell_type": "markdown",
   "id": "e8b5843a",
   "metadata": {},
   "source": [
    "# Q69:Details of the patients whose firstname or lastname contains string \"lau\" , should be case insensitive."
   ]
  },
  {
   "cell_type": "code",
   "execution_count": null,
   "id": "91b31cdd",
   "metadata": {},
   "outputs": [],
   "source": [
    "df = pd.read_excel('HospitalDatabase .xlsx', 'Patients')\n",
    "df_Names = (df.FirstName.str.contains('LaU', flags=re.IGNORECASE) | \n",
    "            df.LastName.str.contains('LaU', flags=re.IGNORECASE))\n",
    "df[df_Names]"
   ]
  },
  {
   "cell_type": "markdown",
   "id": "edb9ed29",
   "metadata": {},
   "source": [
    "# Q80:Write a code snippet to print different ProviderSpecialty ( use groupby and get the list of the groups)."
   ]
  },
  {
   "cell_type": "code",
   "execution_count": 50,
   "id": "40627b99",
   "metadata": {},
   "outputs": [
    {
     "data": {
      "text/plain": [
       "ProviderSpecialty\n",
       "Cardiology     24\n",
       "Pediatrics      9\n",
       "PrimaryCare    40\n",
       "Surgery        16\n",
       "Name: ProviderID, dtype: int64"
      ]
     },
     "execution_count": 50,
     "metadata": {},
     "output_type": "execute_result"
    }
   ],
   "source": [
    "df = pd.read_excel('HospitalDatabase .xlsx', 'Providers')\n",
    "df.groupby(['ProviderSpecialty'])['ProviderID'].max()"
   ]
  },
  {
   "cell_type": "markdown",
   "id": "c75773f5",
   "metadata": {},
   "source": [
    "# Q71:Create a visualization on the count of patients based on primary diagnosis."
   ]
  },
  {
   "cell_type": "code",
   "execution_count": 74,
   "id": "ab068aca",
   "metadata": {},
   "outputs": [
    {
     "data": {
      "text/plain": [
       "<AxesSubplot:>"
      ]
     },
     "execution_count": 74,
     "metadata": {},
     "output_type": "execute_result"
    },
    {
     "data": {
      "image/png": "[encoded data removed]",
      "text/plain": [
       "<Figure size 432x288 with 1 Axes>"
      ]
     },
     "metadata": {
      "needs_background": "light"
     },
     "output_type": "display_data"
    }
   ],
   "source": [
    "df = pd.read_excel('HospitalDatabase .xlsx', 'Discharges')\n",
    "df_grp_count = pd.value_counts(df['PrimaryDiagnosis'])\n",
    "\n",
    "import matplotlib.pyplot as plt\n",
    "plt.figure(figsize = (12,15))\n",
    "\n",
    "%matplotlib inline\n",
    "df_grp_count.plot()"
   ]
  },
  {
   "cell_type": "markdown",
   "id": "4ea59243",
   "metadata": {},
   "source": [
    "# Q65:Get the number of patients based on service and primary diagnosis."
   ]
  },
  {
   "cell_type": "code",
   "execution_count": 60,
   "id": "8e30fb11",
   "metadata": {},
   "outputs": [
    {
     "data": {
      "text/html": [
       "<div>\n",
       "<style scoped>\n",
       "    .dataframe tbody tr th:only-of-type {\n",
       "        vertical-align: middle;\n",
       "    }\n",
       "\n",
       "    .dataframe tbody tr th {\n",
       "        vertical-align: top;\n",
       "    }\n",
       "\n",
       "    .dataframe thead th {\n",
       "        text-align: right;\n",
       "    }\n",
       "</style>\n",
       "<table border=\"1\" class=\"dataframe\">\n",
       "  <thead>\n",
       "    <tr style=\"text-align: right;\">\n",
       "      <th></th>\n",
       "      <th></th>\n",
       "      <th>CountOfPatients</th>\n",
       "    </tr>\n",
       "    <tr>\n",
       "      <th>Service</th>\n",
       "      <th>PrimaryDiagnosis</th>\n",
       "      <th></th>\n",
       "    </tr>\n",
       "  </thead>\n",
       "  <tbody>\n",
       "    <tr>\n",
       "      <th rowspan=\"6\" valign=\"top\">Cardiology</th>\n",
       "      <th>AMI</th>\n",
       "      <td>40</td>\n",
       "    </tr>\n",
       "    <tr>\n",
       "      <th>Afib</th>\n",
       "      <td>10</td>\n",
       "    </tr>\n",
       "    <tr>\n",
       "      <th>Broken Leg</th>\n",
       "      <td>3</td>\n",
       "    </tr>\n",
       "    <tr>\n",
       "      <th>Flu</th>\n",
       "      <td>2</td>\n",
       "    </tr>\n",
       "    <tr>\n",
       "      <th>Heart Failure</th>\n",
       "      <td>39</td>\n",
       "    </tr>\n",
       "    <tr>\n",
       "      <th>Kidney Failure</th>\n",
       "      <td>1</td>\n",
       "    </tr>\n",
       "    <tr>\n",
       "      <th rowspan=\"9\" valign=\"top\">General Medicine</th>\n",
       "      <th>Broken Leg</th>\n",
       "      <td>3</td>\n",
       "    </tr>\n",
       "    <tr>\n",
       "      <th>Diabetes</th>\n",
       "      <td>38</td>\n",
       "    </tr>\n",
       "    <tr>\n",
       "      <th>Fever</th>\n",
       "      <td>13</td>\n",
       "    </tr>\n",
       "    <tr>\n",
       "      <th>Flu</th>\n",
       "      <td>54</td>\n",
       "    </tr>\n",
       "    <tr>\n",
       "      <th>Hypertension</th>\n",
       "      <td>35</td>\n",
       "    </tr>\n",
       "    <tr>\n",
       "      <th>Kidney Failure</th>\n",
       "      <td>12</td>\n",
       "    </tr>\n",
       "    <tr>\n",
       "      <th>Laceration</th>\n",
       "      <td>21</td>\n",
       "    </tr>\n",
       "    <tr>\n",
       "      <th>Pneumonia</th>\n",
       "      <td>67</td>\n",
       "    </tr>\n",
       "    <tr>\n",
       "      <th>Stroke</th>\n",
       "      <td>20</td>\n",
       "    </tr>\n",
       "    <tr>\n",
       "      <th rowspan=\"11\" valign=\"top\">Hospitalist</th>\n",
       "      <th>AMI</th>\n",
       "      <td>1</td>\n",
       "    </tr>\n",
       "    <tr>\n",
       "      <th>Broken Leg</th>\n",
       "      <td>3</td>\n",
       "    </tr>\n",
       "    <tr>\n",
       "      <th>Diabetes</th>\n",
       "      <td>26</td>\n",
       "    </tr>\n",
       "    <tr>\n",
       "      <th>Fever</th>\n",
       "      <td>3</td>\n",
       "    </tr>\n",
       "    <tr>\n",
       "      <th>Flu</th>\n",
       "      <td>19</td>\n",
       "    </tr>\n",
       "    <tr>\n",
       "      <th>Hypertension</th>\n",
       "      <td>6</td>\n",
       "    </tr>\n",
       "    <tr>\n",
       "      <th>Kidney Failure</th>\n",
       "      <td>6</td>\n",
       "    </tr>\n",
       "    <tr>\n",
       "      <th>Knee Replacement</th>\n",
       "      <td>1</td>\n",
       "    </tr>\n",
       "    <tr>\n",
       "      <th>Laceration</th>\n",
       "      <td>7</td>\n",
       "    </tr>\n",
       "    <tr>\n",
       "      <th>Pneumonia</th>\n",
       "      <td>28</td>\n",
       "    </tr>\n",
       "    <tr>\n",
       "      <th>Stroke</th>\n",
       "      <td>1</td>\n",
       "    </tr>\n",
       "    <tr>\n",
       "      <th rowspan=\"11\" valign=\"top\">ICU</th>\n",
       "      <th>AMI</th>\n",
       "      <td>5</td>\n",
       "    </tr>\n",
       "    <tr>\n",
       "      <th>Afib</th>\n",
       "      <td>1</td>\n",
       "    </tr>\n",
       "    <tr>\n",
       "      <th>Fever</th>\n",
       "      <td>3</td>\n",
       "    </tr>\n",
       "    <tr>\n",
       "      <th>Flu</th>\n",
       "      <td>3</td>\n",
       "    </tr>\n",
       "    <tr>\n",
       "      <th>Heart Failure</th>\n",
       "      <td>33</td>\n",
       "    </tr>\n",
       "    <tr>\n",
       "      <th>Hypertension</th>\n",
       "      <td>4</td>\n",
       "    </tr>\n",
       "    <tr>\n",
       "      <th>Kidney Failure</th>\n",
       "      <td>1</td>\n",
       "    </tr>\n",
       "    <tr>\n",
       "      <th>Laceration</th>\n",
       "      <td>1</td>\n",
       "    </tr>\n",
       "    <tr>\n",
       "      <th>Pneumonia</th>\n",
       "      <td>77</td>\n",
       "    </tr>\n",
       "    <tr>\n",
       "      <th>Spinal Cord Injury</th>\n",
       "      <td>2</td>\n",
       "    </tr>\n",
       "    <tr>\n",
       "      <th>Stroke</th>\n",
       "      <td>21</td>\n",
       "    </tr>\n",
       "    <tr>\n",
       "      <th rowspan=\"8\" valign=\"top\">Neurology</th>\n",
       "      <th>AMI</th>\n",
       "      <td>2</td>\n",
       "    </tr>\n",
       "    <tr>\n",
       "      <th>Flu</th>\n",
       "      <td>2</td>\n",
       "    </tr>\n",
       "    <tr>\n",
       "      <th>Heart Failure</th>\n",
       "      <td>6</td>\n",
       "    </tr>\n",
       "    <tr>\n",
       "      <th>Hypertension</th>\n",
       "      <td>5</td>\n",
       "    </tr>\n",
       "    <tr>\n",
       "      <th>Migraine</th>\n",
       "      <td>12</td>\n",
       "    </tr>\n",
       "    <tr>\n",
       "      <th>Pain</th>\n",
       "      <td>7</td>\n",
       "    </tr>\n",
       "    <tr>\n",
       "      <th>Pneumonia</th>\n",
       "      <td>5</td>\n",
       "    </tr>\n",
       "    <tr>\n",
       "      <th>Stroke</th>\n",
       "      <td>26</td>\n",
       "    </tr>\n",
       "    <tr>\n",
       "      <th rowspan=\"2\" valign=\"top\">Orthopeadics</th>\n",
       "      <th>Hip Fracture</th>\n",
       "      <td>23</td>\n",
       "    </tr>\n",
       "    <tr>\n",
       "      <th>Knee Replacement</th>\n",
       "      <td>22</td>\n",
       "    </tr>\n",
       "  </tbody>\n",
       "</table>\n",
       "</div>"
      ],
      "text/plain": [
       "                                     CountOfPatients\n",
       "Service          PrimaryDiagnosis                   \n",
       "Cardiology       AMI                              40\n",
       "                 Afib                             10\n",
       "                 Broken Leg                        3\n",
       "                 Flu                               2\n",
       "                 Heart Failure                    39\n",
       "                 Kidney Failure                    1\n",
       "General Medicine Broken Leg                        3\n",
       "                 Diabetes                         38\n",
       "                 Fever                            13\n",
       "                 Flu                              54\n",
       "                 Hypertension                     35\n",
       "                 Kidney Failure                   12\n",
       "                 Laceration                       21\n",
       "                 Pneumonia                        67\n",
       "                 Stroke                           20\n",
       "Hospitalist      AMI                               1\n",
       "                 Broken Leg                        3\n",
       "                 Diabetes                         26\n",
       "                 Fever                             3\n",
       "                 Flu                              19\n",
       "                 Hypertension                      6\n",
       "                 Kidney Failure                    6\n",
       "                 Knee Replacement                  1\n",
       "                 Laceration                        7\n",
       "                 Pneumonia                        28\n",
       "                 Stroke                            1\n",
       "ICU              AMI                               5\n",
       "                 Afib                              1\n",
       "                 Fever                             3\n",
       "                 Flu                               3\n",
       "                 Heart Failure                    33\n",
       "                 Hypertension                      4\n",
       "                 Kidney Failure                    1\n",
       "                 Laceration                        1\n",
       "                 Pneumonia                        77\n",
       "                 Spinal Cord Injury                2\n",
       "                 Stroke                           21\n",
       "Neurology        AMI                               2\n",
       "                 Flu                               2\n",
       "                 Heart Failure                     6\n",
       "                 Hypertension                      5\n",
       "                 Migraine                         12\n",
       "                 Pain                              7\n",
       "                 Pneumonia                         5\n",
       "                 Stroke                           26\n",
       "Orthopeadics     Hip Fracture                     23\n",
       "                 Knee Replacement                 22"
      ]
     },
     "execution_count": 60,
     "metadata": {},
     "output_type": "execute_result"
    }
   ],
   "source": [
    "df = pd.read_excel('HospitalDatabase .xlsx', 'Discharges')\n",
    "dg = df.groupby([\"Service\", \"PrimaryDiagnosis\"])\n",
    "df_filt_3 = dg.count()\n",
    "df_count = df_filt_3[['PatientID']]\n",
    "df_count.rename({'PatientID':'CountOfPatients'}, axis=1)"
   ]
  },
  {
   "cell_type": "markdown",
   "id": "aa2cf7f4",
   "metadata": {},
   "source": [
    "# Q61: Plot a graph by multiplotting on the same canvas (Take any set of x & y values)."
   ]
  },
  {
   "cell_type": "code",
   "execution_count": 67,
   "id": "543e6588",
   "metadata": {},
   "outputs": [
    {
     "name": "stderr",
     "output_type": "stream",
     "text": [
      "C:\\Users\\AARAV_AARNA\\anaconda3\\lib\\site-packages\\seaborn\\_decorators.py:36: FutureWarning: Pass the following variable as a keyword arg: x. From version 0.12, the only valid positional argument will be `data`, and passing other arguments without an explicit keyword will result in an error or misinterpretation.\n",
      "  warnings.warn(\n",
      "C:\\Users\\AARAV_AARNA\\anaconda3\\lib\\site-packages\\seaborn\\_decorators.py:36: FutureWarning: Pass the following variable as a keyword arg: x. From version 0.12, the only valid positional argument will be `data`, and passing other arguments without an explicit keyword will result in an error or misinterpretation.\n",
      "  warnings.warn(\n"
     ]
    },
    {
     "data": {
      "text/plain": [
       "(array([ 0,  1,  2,  3,  4,  5,  6,  7,  8,  9, 10, 11, 12, 13, 14, 15, 16]),\n",
       " [Text(0, 0, 'AMI'),\n",
       "  Text(1, 0, 'Broken Leg'),\n",
       "  Text(2, 0, 'Kidney Failure'),\n",
       "  Text(3, 0, 'Afib'),\n",
       "  Text(4, 0, 'Flu'),\n",
       "  Text(5, 0, 'Hypertension'),\n",
       "  Text(6, 0, 'Fever'),\n",
       "  Text(7, 0, 'Pneumonia'),\n",
       "  Text(8, 0, 'Heart Failure'),\n",
       "  Text(9, 0, 'Spinal Cord Injury'),\n",
       "  Text(10, 0, 'Stroke'),\n",
       "  Text(11, 0, 'Knee Replacement'),\n",
       "  Text(12, 0, 'Laceration'),\n",
       "  Text(13, 0, 'Hip Fracture'),\n",
       "  Text(14, 0, 'Diabetes'),\n",
       "  Text(15, 0, 'Pain'),\n",
       "  Text(16, 0, 'Migraine')])"
      ]
     },
     "execution_count": 67,
     "metadata": {},
     "output_type": "execute_result"
    },
    {
     "data": {
      "image/png": "[encoded data removed]",
      "text/plain": [
       "<Figure size 1440x1440 with 2 Axes>"
      ]
     },
     "metadata": {
      "needs_background": "light"
     },
     "output_type": "display_data"
    }
   ],
   "source": [
    "df = pd.read_excel('HospitalDatabase .xlsx', 'Discharges')\n",
    "# Sub plot\n",
    "# plt.subplot(Total no of rows, no of cols, plot no)\n",
    "\n",
    "plt.figure(figsize = (20,20))\n",
    "\n",
    "plt.subplot(2,1,1)\n",
    "sns.countplot('PrimaryDiagnosis', hue ='Service', data = df)\n",
    "plt.xticks(rotation = 45)\n",
    "\n",
    "plt.subplot(2,1,2)\n",
    "sns.countplot('PrimaryDiagnosis', hue ='DischargeDisposition', data = df)\n",
    "plt.xticks(rotation = 45)"
   ]
  },
  {
   "cell_type": "markdown",
   "id": "627d6ca2",
   "metadata": {},
   "source": [
    "# Q70:Plot a graph to show the distribution of expected mortality."
   ]
  },
  {
   "cell_type": "code",
   "execution_count": 75,
   "id": "b82c7559",
   "metadata": {},
   "outputs": [
    {
     "data": {
      "image/png": "[encoded data removed]",
      "text/plain": [
       "<Figure size 1440x720 with 1 Axes>"
      ]
     },
     "metadata": {
      "needs_background": "light"
     },
     "output_type": "display_data"
    }
   ],
   "source": [
    "# plot data frame\n",
    "\n",
    "import matplotlib.pyplot as plt\n",
    "%matplotlib inline\n",
    "\n",
    "plt.style.use('bmh')\n",
    "df = pd.read_excel('HospitalDatabase .xlsx', 'Discharges')\n",
    "plt.rcParams['figure.figsize']=(20,10)\n",
    "\n",
    "# df.plot.bar(x='Service', y='ExpectedMortality')\n",
    "x = df['Service']\n",
    "y = df['ExpectedMortality']\n",
    "\n",
    "plt.xlabel('Service', fontsize=16)\n",
    "plt.ylabel('ExpectedMortality', fontsize=16)\n",
    "plt.bar(x,y)\n",
    "plt.show()"
   ]
  },
  {
   "cell_type": "markdown",
   "id": "70f94514",
   "metadata": {},
   "source": [
    "# Q 67:Make a pivot table by the no. of patients from the admission date till discharge date."
   ]
  },
  {
   "cell_type": "code",
   "execution_count": null,
   "id": "0518ded4",
   "metadata": {},
   "outputs": [],
   "source": []
  },
  {
   "cell_type": "markdown",
   "id": "fa0a0e93",
   "metadata": {},
   "source": [
    "# Q66:np.arange(1,31).reshape(6,5), find array slicing to get the elements 4,5,24,25,29,30."
   ]
  },
  {
   "cell_type": "code",
   "execution_count": 77,
   "id": "32d4049f",
   "metadata": {},
   "outputs": [
    {
     "name": "stdout",
     "output_type": "stream",
     "text": [
      "[[ 1  2  3  4  5]\n",
      " [ 6  7  8  9 10]\n",
      " [11 12 13 14 15]\n",
      " [16 17 18 19 20]\n",
      " [21 22 23 24 25]\n",
      " [26 27 28 29 30]]\n"
     ]
    }
   ],
   "source": [
    "array_a = np.arange(1,31).reshape(6,5)\n",
    "print(array_a)"
   ]
  },
  {
   "cell_type": "code",
   "execution_count": 78,
   "id": "89956a0a",
   "metadata": {},
   "outputs": [
    {
     "name": "stdout",
     "output_type": "stream",
     "text": [
      "[[4 5]] [[24 25]] [[29 30]]\n"
     ]
    }
   ],
   "source": [
    "print(array_a[0:1:,3:: ], array_a[4:5:,3:: ],array_a[5::,3:: ], )"
   ]
  },
  {
   "cell_type": "markdown",
   "id": "45da68dc",
   "metadata": {},
   "source": [
    "# Q64\"Using numpy functions, multiply the following arrays.\n",
    "a=np.arange(6).reshape(2,3)\n",
    "b=np.arange(6).reshape(3,2)\""
   ]
  },
  {
   "cell_type": "code",
   "execution_count": null,
   "id": "bf404ea2",
   "metadata": {},
   "outputs": [],
   "source": []
  }
 ],
 "metadata": {
  "kernelspec": {
   "display_name": "Python 3 (ipykernel)",
   "language": "python",
   "name": "python3"
  },
  "language_info": {
   "codemirror_mode": {
    "name": "ipython",
    "version": 3
   },
   "file_extension": ".py",
   "mimetype": "text/x-python",
   "name": "python",
   "nbconvert_exporter": "python",
   "pygments_lexer": "ipython3",
   "version": "3.9.12"
  }
 },
 "nbformat": 4,
 "nbformat_minor": 5
}
