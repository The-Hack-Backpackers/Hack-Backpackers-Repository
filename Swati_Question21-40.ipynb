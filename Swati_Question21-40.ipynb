{
 "cells": [
  {
   "cell_type": "markdown",
   "id": "d68229d4",
   "metadata": {},
   "source": [
    "## Q 32. Write a function to print the multipication table of the given number."
   ]
  },
  {
   "cell_type": "code",
   "execution_count": 1,
   "id": "ea05aa3f",
   "metadata": {},
   "outputs": [
    {
     "name": "stdout",
     "output_type": "stream",
     "text": [
      "Print the multiplication table of? 4\n",
      "4 x 1 = 4\n",
      "4 x 2 = 8\n",
      "4 x 3 = 12\n",
      "4 x 4 = 16\n",
      "4 x 5 = 20\n",
      "4 x 6 = 24\n",
      "4 x 7 = 28\n",
      "4 x 8 = 32\n",
      "4 x 9 = 36\n",
      "4 x 10 = 40\n"
     ]
    }
   ],
   "source": [
    "num = int(input(\"Print the multiplication table of? \"))\n",
    "for i in range(1, 11):\n",
    "   print(num, 'x', i, '=', num*i)"
   ]
  },
  {
   "cell_type": "markdown",
   "id": "786afb73",
   "metadata": {},
   "source": [
    "## Q 37. Write a function to print all the upper case letter of a given sentence."
   ]
  },
  {
   "cell_type": "code",
   "execution_count": 2,
   "id": "3623be35",
   "metadata": {},
   "outputs": [
    {
     "name": "stdout",
     "output_type": "stream",
     "text": [
      "PRINT THE UPPERCASE LETTERS OF A SENTENCE.\n"
     ]
    }
   ],
   "source": [
    "string = \"print the uppercase letters of a sentence.\"\n",
    "a = string.upper()\n",
    "print(a)"
   ]
  },
  {
   "cell_type": "markdown",
   "id": "53316a06",
   "metadata": {},
   "source": [
    "## Q 23. write a function to find the center element in the list. (one element in odd length list,  two elements in even length list). "
   ]
  },
  {
   "cell_type": "code",
   "execution_count": 17,
   "id": "d607ac8f",
   "metadata": {},
   "outputs": [
    {
     "name": "stdout",
     "output_type": "stream",
     "text": [
      "3\n"
     ]
    }
   ],
   "source": [
    "list = [1, 2, 3, 4, 5] # list with odd numbers\n",
    "\n",
    "middle = int(len(list) / 2)\n",
    "print(list[middle])"
   ]
  },
  {
   "cell_type": "code",
   "execution_count": 18,
   "id": "bc4dbc53",
   "metadata": {},
   "outputs": [
    {
     "name": "stdout",
     "output_type": "stream",
     "text": [
      "3\n",
      "4\n"
     ]
    }
   ],
   "source": [
    "list = [1, 2, 3, 4, 5, 6] # list with even numbers.\n",
    "first_middle = int(len(list) / 2) - 1\n",
    "second_middle = int(len(list) / 2)    \n",
    "\n",
    "print(list[first_middle])\n",
    "print(list[second_middle])\n"
   ]
  },
  {
   "cell_type": "markdown",
   "id": "80f22a67",
   "metadata": {},
   "source": [
    "## Q 34. np.arange(1,31).reshape(6,5) Find the array slicing to get the elements with values 11,12,16,17."
   ]
  },
  {
   "cell_type": "code",
   "execution_count": 19,
   "id": "e53dd784",
   "metadata": {},
   "outputs": [
    {
     "name": "stdout",
     "output_type": "stream",
     "text": [
      "Original arrays:\n",
      "[[ 1  2  3  4  5]\n",
      " [ 6  7  8  9 10]\n",
      " [11 12 13 14 15]\n",
      " [16 17 18 19 20]\n",
      " [21 22 23 24 25]\n",
      " [26 27 28 29 30]]\n",
      "Sliced elements:\n",
      "[11 12 16 17]\n"
     ]
    }
   ],
   "source": [
    "import numpy as np    \n",
    "x = np.reshape(np.arange(1,31),(6,5))\n",
    "print(\"Original arrays:\")\n",
    "print(x)\n",
    "print(\"Sliced elements:\")\n",
    "result = x[[2,2,3,3],[0,1,0,1]]\n",
    "print(result)"
   ]
  },
  {
   "cell_type": "markdown",
   "id": "d8c72075",
   "metadata": {},
   "source": [
    "## Q 35. np.arange(1,31).reshape(6,5), find array slicing for elements 2,8,14,20."
   ]
  },
  {
   "cell_type": "code",
   "execution_count": 20,
   "id": "39c61f84",
   "metadata": {},
   "outputs": [
    {
     "name": "stdout",
     "output_type": "stream",
     "text": [
      "Original arrays:\n",
      "[[ 1  2  3  4  5]\n",
      " [ 6  7  8  9 10]\n",
      " [11 12 13 14 15]\n",
      " [16 17 18 19 20]\n",
      " [21 22 23 24 25]\n",
      " [26 27 28 29 30]]\n",
      "Sliced elements:\n",
      "[ 2  8 14 20]\n"
     ]
    }
   ],
   "source": [
    "import numpy as np    \n",
    "x = np.reshape(np.arange(1,31),(6,5))\n",
    "print(\"Original arrays:\")\n",
    "print(x)\n",
    "print(\"Sliced elements:\")\n",
    "result = x[[0,1,2,3],[1,2,3,4]]\n",
    "print(result)"
   ]
  },
  {
   "cell_type": "markdown",
   "id": "dee64b81",
   "metadata": {},
   "source": [
    "## Q 31. Find the count of White Spanish Male."
   ]
  },
  {
   "cell_type": "code",
   "execution_count": 41,
   "id": "05381498",
   "metadata": {},
   "outputs": [
    {
     "name": "stdout",
     "output_type": "stream",
     "text": [
      "15\n"
     ]
    }
   ],
   "source": [
    "import pandas as pd\n",
    "df=pd.read_excel('HospitalDatabase.xlsx', 'Patients')\n",
    "s_bool_and = ((df['Language'] == 'Spanish') & (df['Gender'] == 'Male') & (df['Race'] == 'White'))\n",
    "print(s_bool_and.sum())"
   ]
  },
  {
   "cell_type": "markdown",
   "id": "3e8ce91f",
   "metadata": {},
   "source": [
    "## Q 26. Using arrays and loops, find the count of patients based on gender."
   ]
  },
  {
   "cell_type": "code",
   "execution_count": 22,
   "id": "5fc2a8a5",
   "metadata": {},
   "outputs": [
    {
     "data": {
      "text/plain": [
       "Male      537\n",
       "Female    408\n",
       "Name: Gender, dtype: int64"
      ]
     },
     "execution_count": 22,
     "metadata": {},
     "output_type": "execute_result"
    }
   ],
   "source": [
    "import pandas as pd\n",
    "df=pd.read_excel('HospitalDatabase.xlsx', 'Patients')\n",
    "df['Gender'].value_counts(ascending=False)"
   ]
  },
  {
   "cell_type": "markdown",
   "id": "d4214a83",
   "metadata": {},
   "source": [
    "## Q 25.  Plot a graph by counting the no. of patients in each department."
   ]
  },
  {
   "cell_type": "code",
   "execution_count": 23,
   "id": "f87c3797",
   "metadata": {},
   "outputs": [
    {
     "data": {
      "image/png": "[encoded data removed]",
      "text/plain": [
       "<Figure size 432x288 with 1 Axes>"
      ]
     },
     "metadata": {
      "needs_background": "light"
     },
     "output_type": "display_data"
    }
   ],
   "source": [
    "import pandas as pd\n",
    "df=pd.read_excel('HospitalDatabase.xlsx', 'Discharges')\n",
    "df['Service'].value_counts().plot(kind='bar');"
   ]
  },
  {
   "cell_type": "markdown",
   "id": "a72ff959",
   "metadata": {},
   "source": [
    "## Q 27. Plot a graph to count the patients based on discharge disposition."
   ]
  },
  {
   "cell_type": "code",
   "execution_count": 24,
   "id": "934f2d4d",
   "metadata": {},
   "outputs": [
    {
     "data": {
      "image/png": "[encoded data removed]",
      "text/plain": [
       "<Figure size 432x288 with 1 Axes>"
      ]
     },
     "metadata": {
      "needs_background": "light"
     },
     "output_type": "display_data"
    }
   ],
   "source": [
    "import pandas as pd\n",
    "df=pd.read_excel('HospitalDatabase.xlsx', 'Discharges')\n",
    "df['DischargeDisposition'].value_counts().plot(kind='bar');"
   ]
  },
  {
   "cell_type": "markdown",
   "id": "1a1b95b2",
   "metadata": {},
   "source": [
    "## Q 40. Plot a graph showing the count of patients for the reason visited the hospotal."
   ]
  },
  {
   "cell_type": "code",
   "execution_count": 26,
   "id": "41efc121",
   "metadata": {},
   "outputs": [
    {
     "data": {
      "image/png": "[encoded data removed]",
      "text/plain": [
       "<Figure size 432x288 with 1 Axes>"
      ]
     },
     "metadata": {
      "needs_background": "light"
     },
     "output_type": "display_data"
    }
   ],
   "source": [
    "import pandas as pd\n",
    "df=pd.read_excel('HospitalDatabase.xlsx', 'EDVisits')\n",
    "df['ReasonForVisit'].value_counts().plot(kind='bar');"
   ]
  },
  {
   "cell_type": "markdown",
   "id": "e2c5a961",
   "metadata": {},
   "source": [
    "## Q 22. # Create a dataframe with acuity and EDDisposition as the indices and the count of number of patients as the value."
   ]
  },
  {
   "cell_type": "code",
   "execution_count": 27,
   "id": "7f98ab81",
   "metadata": {},
   "outputs": [
    {
     "data": {
      "text/html": [
       "<div>\n",
       "<style scoped>\n",
       "    .dataframe tbody tr th:only-of-type {\n",
       "        vertical-align: middle;\n",
       "    }\n",
       "\n",
       "    .dataframe tbody tr th {\n",
       "        vertical-align: top;\n",
       "    }\n",
       "\n",
       "    .dataframe thead th {\n",
       "        text-align: right;\n",
       "    }\n",
       "</style>\n",
       "<table border=\"1\" class=\"dataframe\">\n",
       "  <thead>\n",
       "    <tr style=\"text-align: right;\">\n",
       "      <th></th>\n",
       "      <th>EDDisposition</th>\n",
       "      <th>Acuity</th>\n",
       "      <th>index</th>\n",
       "    </tr>\n",
       "  </thead>\n",
       "  <tbody>\n",
       "    <tr>\n",
       "      <th>0</th>\n",
       "      <td>Admitted</td>\n",
       "      <td>1</td>\n",
       "      <td>32</td>\n",
       "    </tr>\n",
       "    <tr>\n",
       "      <th>1</th>\n",
       "      <td>Admitted</td>\n",
       "      <td>2</td>\n",
       "      <td>116</td>\n",
       "    </tr>\n",
       "    <tr>\n",
       "      <th>2</th>\n",
       "      <td>Admitted</td>\n",
       "      <td>3</td>\n",
       "      <td>81</td>\n",
       "    </tr>\n",
       "    <tr>\n",
       "      <th>3</th>\n",
       "      <td>Admitted</td>\n",
       "      <td>4</td>\n",
       "      <td>107</td>\n",
       "    </tr>\n",
       "    <tr>\n",
       "      <th>4</th>\n",
       "      <td>Admitted</td>\n",
       "      <td>5</td>\n",
       "      <td>179</td>\n",
       "    </tr>\n",
       "    <tr>\n",
       "      <th>5</th>\n",
       "      <td>Discharged</td>\n",
       "      <td>1</td>\n",
       "      <td>558</td>\n",
       "    </tr>\n",
       "    <tr>\n",
       "      <th>6</th>\n",
       "      <td>Discharged</td>\n",
       "      <td>2</td>\n",
       "      <td>66</td>\n",
       "    </tr>\n",
       "    <tr>\n",
       "      <th>7</th>\n",
       "      <td>Discharged</td>\n",
       "      <td>4</td>\n",
       "      <td>30</td>\n",
       "    </tr>\n",
       "    <tr>\n",
       "      <th>8</th>\n",
       "      <td>Discharged</td>\n",
       "      <td>5</td>\n",
       "      <td>30</td>\n",
       "    </tr>\n",
       "  </tbody>\n",
       "</table>\n",
       "</div>"
      ],
      "text/plain": [
       "  EDDisposition  Acuity  index\n",
       "0      Admitted       1     32\n",
       "1      Admitted       2    116\n",
       "2      Admitted       3     81\n",
       "3      Admitted       4    107\n",
       "4      Admitted       5    179\n",
       "5    Discharged       1    558\n",
       "6    Discharged       2     66\n",
       "7    Discharged       4     30\n",
       "8    Discharged       5     30"
      ]
     },
     "execution_count": 27,
     "metadata": {},
     "output_type": "execute_result"
    }
   ],
   "source": [
    "import pandas as pd\n",
    "df=pd.read_excel('HospitalDatabase.xlsx', 'EDVisits')\n",
    "df = pd.DataFrame(df, columns=['EDDisposition','Acuity'])\n",
    "df.reset_index().groupby( [ \"EDDisposition\", \"Acuity\"],as_index=False ).count()"
   ]
  },
  {
   "cell_type": "markdown",
   "id": "a159a9f7",
   "metadata": {},
   "source": [
    "## Q 33. Using a bar chart, which Service had the lowest count of Expected Mortality?\n"
   ]
  },
  {
   "cell_type": "code",
   "execution_count": 28,
   "id": "9bba6a28",
   "metadata": {},
   "outputs": [
    {
     "data": {
      "image/png": "[encoded data removed]",
      "text/plain": [
       "<Figure size 432x288 with 1 Axes>"
      ]
     },
     "metadata": {
      "needs_background": "light"
     },
     "output_type": "display_data"
    }
   ],
   "source": [
    "import seaborn as sns\n",
    "import matplotlib.pyplot as plt\n",
    "df=pd.read_excel('HospitalDatabase.xlsx', 'Discharges')\n",
    "sns.barplot(x = 'Service',\n",
    "            y = 'ExpectedMortality',\n",
    "            data = df) \n",
    "# Show the plot\n",
    "plt.show()\n"
   ]
  },
  {
   "cell_type": "markdown",
   "id": "143e0441",
   "metadata": {},
   "source": [
    "## Q 29. Calculate average LOS."
   ]
  },
  {
   "cell_type": "code",
   "execution_count": 29,
   "id": "e470dd67",
   "metadata": {},
   "outputs": [
    {
     "name": "stdout",
     "output_type": "stream",
     "text": [
      "9.534722222222221\n"
     ]
    }
   ],
   "source": [
    "import pandas as pd\n",
    "df=pd.read_excel('HospitalDatabase.xlsx', 'Discharges')\n",
    "patient_sum=df['PatientID'].value_counts(ascending=False)\n",
    "discharge_date=df['DischargeDate'].value_counts(ascending=False)\n",
    "admission_date=df['AdmissionDate'].value_counts(ascending=False)\n",
    "df_Difference=(df['DischargeDate'] - df['AdmissionDate']).dt.days\n",
    "#print(df_Difference.sum())\n",
    "#print(patient_sum.sum())\n",
    "print(df_Difference.sum() / patient_sum.sum())\n"
   ]
  },
  {
   "cell_type": "markdown",
   "id": "f191606c",
   "metadata": {},
   "source": [
    "## Q. 38 Number of patients on 'Transfer' based on primary diagnosis."
   ]
  },
  {
   "cell_type": "code",
   "execution_count": 42,
   "id": "3b9d3856",
   "metadata": {},
   "outputs": [
    {
     "data": {
      "text/html": [
       "<div>\n",
       "<style scoped>\n",
       "    .dataframe tbody tr th:only-of-type {\n",
       "        vertical-align: middle;\n",
       "    }\n",
       "\n",
       "    .dataframe tbody tr th {\n",
       "        vertical-align: top;\n",
       "    }\n",
       "\n",
       "    .dataframe thead th {\n",
       "        text-align: right;\n",
       "    }\n",
       "</style>\n",
       "<table border=\"1\" class=\"dataframe\">\n",
       "  <thead>\n",
       "    <tr style=\"text-align: right;\">\n",
       "      <th></th>\n",
       "      <th>PrimaryDiagnosis</th>\n",
       "      <th>count</th>\n",
       "    </tr>\n",
       "  </thead>\n",
       "  <tbody>\n",
       "    <tr>\n",
       "      <th>0</th>\n",
       "      <td>AMI</td>\n",
       "      <td>0</td>\n",
       "    </tr>\n",
       "    <tr>\n",
       "      <th>1</th>\n",
       "      <td>Afib</td>\n",
       "      <td>1</td>\n",
       "    </tr>\n",
       "    <tr>\n",
       "      <th>2</th>\n",
       "      <td>Broken Leg</td>\n",
       "      <td>0</td>\n",
       "    </tr>\n",
       "    <tr>\n",
       "      <th>3</th>\n",
       "      <td>Diabetes</td>\n",
       "      <td>7</td>\n",
       "    </tr>\n",
       "    <tr>\n",
       "      <th>4</th>\n",
       "      <td>Fever</td>\n",
       "      <td>0</td>\n",
       "    </tr>\n",
       "    <tr>\n",
       "      <th>5</th>\n",
       "      <td>Flu</td>\n",
       "      <td>2</td>\n",
       "    </tr>\n",
       "    <tr>\n",
       "      <th>6</th>\n",
       "      <td>Heart Failure</td>\n",
       "      <td>9</td>\n",
       "    </tr>\n",
       "    <tr>\n",
       "      <th>7</th>\n",
       "      <td>Hip Fracture</td>\n",
       "      <td>0</td>\n",
       "    </tr>\n",
       "    <tr>\n",
       "      <th>8</th>\n",
       "      <td>Hypertension</td>\n",
       "      <td>0</td>\n",
       "    </tr>\n",
       "    <tr>\n",
       "      <th>9</th>\n",
       "      <td>Kidney Failure</td>\n",
       "      <td>0</td>\n",
       "    </tr>\n",
       "    <tr>\n",
       "      <th>10</th>\n",
       "      <td>Knee Replacement</td>\n",
       "      <td>1</td>\n",
       "    </tr>\n",
       "    <tr>\n",
       "      <th>11</th>\n",
       "      <td>Laceration</td>\n",
       "      <td>1</td>\n",
       "    </tr>\n",
       "    <tr>\n",
       "      <th>12</th>\n",
       "      <td>Migraine</td>\n",
       "      <td>0</td>\n",
       "    </tr>\n",
       "    <tr>\n",
       "      <th>13</th>\n",
       "      <td>Pain</td>\n",
       "      <td>1</td>\n",
       "    </tr>\n",
       "    <tr>\n",
       "      <th>14</th>\n",
       "      <td>Pneumonia</td>\n",
       "      <td>8</td>\n",
       "    </tr>\n",
       "    <tr>\n",
       "      <th>15</th>\n",
       "      <td>Spinal Cord Injury</td>\n",
       "      <td>0</td>\n",
       "    </tr>\n",
       "    <tr>\n",
       "      <th>16</th>\n",
       "      <td>Stroke</td>\n",
       "      <td>9</td>\n",
       "    </tr>\n",
       "  </tbody>\n",
       "</table>\n",
       "</div>"
      ],
      "text/plain": [
       "      PrimaryDiagnosis  count\n",
       "0                  AMI      0\n",
       "1                 Afib      1\n",
       "2           Broken Leg      0\n",
       "3             Diabetes      7\n",
       "4                Fever      0\n",
       "5                  Flu      2\n",
       "6        Heart Failure      9\n",
       "7         Hip Fracture      0\n",
       "8         Hypertension      0\n",
       "9       Kidney Failure      0\n",
       "10    Knee Replacement      1\n",
       "11          Laceration      1\n",
       "12            Migraine      0\n",
       "13                Pain      1\n",
       "14           Pneumonia      8\n",
       "15  Spinal Cord Injury      0\n",
       "16              Stroke      9"
      ]
     },
     "execution_count": 42,
     "metadata": {},
     "output_type": "execute_result"
    }
   ],
   "source": [
    "import pandas as pd\n",
    "import numpy as np\n",
    "df=pd.read_excel('HospitalDatabase.xlsx', 'ReAdmissionRegistry')\n",
    "df.groupby('PrimaryDiagnosis')['DischargeDisposition'].apply(lambda x: (x=='Transfer').sum()).reset_index(name='count')\n"
   ]
  },
  {
   "cell_type": "markdown",
   "id": "32bab3f7",
   "metadata": {},
   "source": [
    "## Q 24. Get the number of patients based on ReasonForVisit and EDDisposition (use stack/unstack functions).\n"
   ]
  },
  {
   "cell_type": "code",
   "execution_count": 31,
   "id": "636c96af",
   "metadata": {},
   "outputs": [
    {
     "data": {
      "text/html": [
       "<div>\n",
       "<style scoped>\n",
       "    .dataframe tbody tr th:only-of-type {\n",
       "        vertical-align: middle;\n",
       "    }\n",
       "\n",
       "    .dataframe tbody tr th {\n",
       "        vertical-align: top;\n",
       "    }\n",
       "\n",
       "    .dataframe thead th {\n",
       "        text-align: right;\n",
       "    }\n",
       "</style>\n",
       "<table border=\"1\" class=\"dataframe\">\n",
       "  <thead>\n",
       "    <tr style=\"text-align: right;\">\n",
       "      <th></th>\n",
       "      <th>EDDisposition</th>\n",
       "      <th>ReasonForVisit</th>\n",
       "      <th>index</th>\n",
       "    </tr>\n",
       "  </thead>\n",
       "  <tbody>\n",
       "    <tr>\n",
       "      <th>0</th>\n",
       "      <td>Admitted</td>\n",
       "      <td>Accident</td>\n",
       "      <td>39</td>\n",
       "    </tr>\n",
       "    <tr>\n",
       "      <th>1</th>\n",
       "      <td>Admitted</td>\n",
       "      <td>Bleeding</td>\n",
       "      <td>16</td>\n",
       "    </tr>\n",
       "    <tr>\n",
       "      <th>2</th>\n",
       "      <td>Admitted</td>\n",
       "      <td>Car Accident</td>\n",
       "      <td>17</td>\n",
       "    </tr>\n",
       "    <tr>\n",
       "      <th>3</th>\n",
       "      <td>Admitted</td>\n",
       "      <td>Chest Pain</td>\n",
       "      <td>94</td>\n",
       "    </tr>\n",
       "    <tr>\n",
       "      <th>4</th>\n",
       "      <td>Admitted</td>\n",
       "      <td>Fever</td>\n",
       "      <td>46</td>\n",
       "    </tr>\n",
       "    <tr>\n",
       "      <th>5</th>\n",
       "      <td>Admitted</td>\n",
       "      <td>Gun Shot</td>\n",
       "      <td>16</td>\n",
       "    </tr>\n",
       "    <tr>\n",
       "      <th>6</th>\n",
       "      <td>Admitted</td>\n",
       "      <td>Migraine</td>\n",
       "      <td>47</td>\n",
       "    </tr>\n",
       "    <tr>\n",
       "      <th>7</th>\n",
       "      <td>Admitted</td>\n",
       "      <td>Pneumonia</td>\n",
       "      <td>136</td>\n",
       "    </tr>\n",
       "    <tr>\n",
       "      <th>8</th>\n",
       "      <td>Admitted</td>\n",
       "      <td>Shortness of Breath</td>\n",
       "      <td>72</td>\n",
       "    </tr>\n",
       "    <tr>\n",
       "      <th>9</th>\n",
       "      <td>Admitted</td>\n",
       "      <td>Stomach Ache</td>\n",
       "      <td>32</td>\n",
       "    </tr>\n",
       "    <tr>\n",
       "      <th>10</th>\n",
       "      <td>Discharged</td>\n",
       "      <td>Bleeding</td>\n",
       "      <td>15</td>\n",
       "    </tr>\n",
       "    <tr>\n",
       "      <th>11</th>\n",
       "      <td>Discharged</td>\n",
       "      <td>Chest Pain</td>\n",
       "      <td>15</td>\n",
       "    </tr>\n",
       "    <tr>\n",
       "      <th>12</th>\n",
       "      <td>Discharged</td>\n",
       "      <td>Cough</td>\n",
       "      <td>1</td>\n",
       "    </tr>\n",
       "    <tr>\n",
       "      <th>13</th>\n",
       "      <td>Discharged</td>\n",
       "      <td>Fever</td>\n",
       "      <td>188</td>\n",
       "    </tr>\n",
       "    <tr>\n",
       "      <th>14</th>\n",
       "      <td>Discharged</td>\n",
       "      <td>Intoxication</td>\n",
       "      <td>30</td>\n",
       "    </tr>\n",
       "    <tr>\n",
       "      <th>15</th>\n",
       "      <td>Discharged</td>\n",
       "      <td>Laceration</td>\n",
       "      <td>30</td>\n",
       "    </tr>\n",
       "    <tr>\n",
       "      <th>16</th>\n",
       "      <td>Discharged</td>\n",
       "      <td>Migraine</td>\n",
       "      <td>109</td>\n",
       "    </tr>\n",
       "    <tr>\n",
       "      <th>17</th>\n",
       "      <td>Discharged</td>\n",
       "      <td>Pneumonia</td>\n",
       "      <td>65</td>\n",
       "    </tr>\n",
       "    <tr>\n",
       "      <th>18</th>\n",
       "      <td>Discharged</td>\n",
       "      <td>Shortness of Breath</td>\n",
       "      <td>77</td>\n",
       "    </tr>\n",
       "    <tr>\n",
       "      <th>19</th>\n",
       "      <td>Discharged</td>\n",
       "      <td>Stomach Ache</td>\n",
       "      <td>154</td>\n",
       "    </tr>\n",
       "  </tbody>\n",
       "</table>\n",
       "</div>"
      ],
      "text/plain": [
       "   EDDisposition       ReasonForVisit  index\n",
       "0       Admitted             Accident     39\n",
       "1       Admitted             Bleeding     16\n",
       "2       Admitted         Car Accident     17\n",
       "3       Admitted           Chest Pain     94\n",
       "4       Admitted                Fever     46\n",
       "5       Admitted             Gun Shot     16\n",
       "6       Admitted             Migraine     47\n",
       "7       Admitted            Pneumonia    136\n",
       "8       Admitted  Shortness of Breath     72\n",
       "9       Admitted         Stomach Ache     32\n",
       "10    Discharged             Bleeding     15\n",
       "11    Discharged           Chest Pain     15\n",
       "12    Discharged                Cough      1\n",
       "13    Discharged                Fever    188\n",
       "14    Discharged         Intoxication     30\n",
       "15    Discharged           Laceration     30\n",
       "16    Discharged             Migraine    109\n",
       "17    Discharged            Pneumonia     65\n",
       "18    Discharged  Shortness of Breath     77\n",
       "19    Discharged         Stomach Ache    154"
      ]
     },
     "execution_count": 31,
     "metadata": {},
     "output_type": "execute_result"
    }
   ],
   "source": [
    "import pandas as pd\n",
    "df=pd.read_excel('HospitalDatabase.xlsx', 'EDVisits')\n",
    "df = pd.DataFrame(df, columns=['EDDisposition','ReasonForVisit'])\n",
    "stacked = df.stack(level = 0)\n",
    "stacked\n",
    "stacked.unstack()\n",
    "df.reset_index().groupby( [ \"EDDisposition\", \"ReasonForVisit\"],as_index=False ).count()"
   ]
  },
  {
   "cell_type": "markdown",
   "id": "8d5cb83e",
   "metadata": {},
   "source": [
    "## Q 36 Create a correlation matrix on EDVisits."
   ]
  },
  {
   "cell_type": "code",
   "execution_count": 32,
   "id": "87a0cf61",
   "metadata": {},
   "outputs": [
    {
     "name": "stdout",
     "output_type": "stream",
     "text": [
      "      EDVisitID  PatientID               VisitDate         EDDischargeTime  \\\n",
      "0             1          1 2020-01-01 00:00:00.000 2020-01-01 11:20:22.924   \n",
      "1            12         12 2020-01-01 02:45:40.302 2020-01-02 02:00:00.517   \n",
      "2            13         13 2020-01-01 03:09:24.701 2020-01-01 05:00:20.852   \n",
      "3            14         14 2020-01-01 03:12:19.349 2020-01-01 04:32:29.142   \n",
      "4            15         15 2020-01-01 03:46:32.698 2020-01-01 06:24:52.741   \n",
      "...         ...        ...                     ...                     ...   \n",
      "1194       1183        929 2020-01-15 10:38:42.570 2020-01-16 02:31:52.023   \n",
      "1195       1186        932 2020-01-15 11:52:37.540 2020-01-16 10:19:41.570   \n",
      "1196       1187        933 2020-01-15 12:11:11.678 2020-01-15 16:41:15.223   \n",
      "1197       1188        934 2020-01-15 12:21:46.006 2020-01-15 18:32:21.060   \n",
      "1198       1189        935 2020-01-15 12:51:14.875 2020-01-15 23:40:41.456   \n",
      "\n",
      "      Acuity ReasonForVisit EDDisposition  \n",
      "0          1   Stomach Ache      Admitted  \n",
      "1          2       Migraine      Admitted  \n",
      "2          3   Stomach Ache      Admitted  \n",
      "3          3       Migraine      Admitted  \n",
      "4          3     Chest Pain      Admitted  \n",
      "...      ...            ...           ...  \n",
      "1194       4     Chest Pain    Discharged  \n",
      "1195       1      Pneumonia    Discharged  \n",
      "1196       1      Pneumonia    Discharged  \n",
      "1197       1      Pneumonia    Discharged  \n",
      "1198       1      Pneumonia    Discharged  \n",
      "\n",
      "[1199 rows x 7 columns]\n",
      "Correlation Matrix is : \n",
      "           EDVisitID  PatientID    Acuity\n",
      "EDVisitID   1.000000   0.975477  0.005813\n",
      "PatientID   0.975477   1.000000  0.003545\n",
      "Acuity      0.005813   0.003545  1.000000\n"
     ]
    },
    {
     "data": {
      "image/png": "[encoded data removed]",
      "text/plain": [
       "<Figure size 432x288 with 2 Axes>"
      ]
     },
     "metadata": {
      "needs_background": "light"
     },
     "output_type": "display_data"
    }
   ],
   "source": [
    "import pandas as pd\n",
    "import seaborn as sns\n",
    "import matplotlib.pyplot as plt\n",
    "df=pd.read_excel('HospitalDatabase.xlsx', 'EDVisits')\n",
    "print(df)\n",
    "matrix = df.corr()\n",
    "print(\"Correlation Matrix is : \")\n",
    "print(matrix)\n",
    "correlation = sns.heatmap(matrix, annot=True)"
   ]
  },
  {
   "cell_type": "markdown",
   "id": "201169cd",
   "metadata": {},
   "source": [
    "## Q39. Get the FirstName, LastName of the Patients whose reason for visit is Migraine. Use EDUnique Sheet for reason for visit."
   ]
  },
  {
   "cell_type": "code",
   "execution_count": 35,
   "id": "66ce8e12",
   "metadata": {},
   "outputs": [
    {
     "data": {
      "text/plain": [
       "1               Far Myers 1985-11-15 02:08:42.090\n",
       "3           Carmine Texas 1968-10-15 03:32:13.635\n",
       "22            Walter Time 1971-02-20 18:41:59.737\n",
       "44        Barret Doubrava 1962-10-18 08:23:23.478\n",
       "46           Cristen Nock 1962-11-01 22:03:17.636\n",
       "                          ...                    \n",
       "908      Freeland Hawford 1985-02-08 22:19:00.712\n",
       "921      Georgianna Group 1971-10-22 07:48:00.496\n",
       "928       Ediva MacTeague 1963-04-05 17:42:15.238\n",
       "930    Letti Landsborough 1971-05-31 09:42:54.177\n",
       "935       Philippa Slocum 1963-07-21 21:19:53.583\n",
       "Name: FullName, Length: 116, dtype: object"
      ]
     },
     "execution_count": 35,
     "metadata": {},
     "output_type": "execute_result"
    }
   ],
   "source": [
    "import pandas as pd\n",
    "import numpy as np\n",
    "import datetime as date\n",
    "workbook_url = 'HospitalDatabase.xlsx'\n",
    "EDUnique_df = pd.read_excel(workbook_url,sheet_name='EDUnique')\n",
    "EDUnique_df\n",
    "workbook_url = 'HospitalDatabase.xlsx'\n",
    "Patients_df = pd.read_excel(workbook_url,sheet_name='Patients')\n",
    "Patients_df\n",
    "sheets=pd.read_excel('HospitalDatabase.xlsx',sheet_name=['EDUnique','Patients'])\n",
    "sheets \n",
    "Patients_df['FullName'] = (Patients_df['FirstName']+' '+Patients_df['LastName']+' '+Patients_df['DateOfBirth'].astype(str))\n",
    "a=Patients_df[EDUnique_df['ReasonForVisit']=='Migraine']['FullName']\n",
    "a"
   ]
  },
  {
   "cell_type": "markdown",
   "id": "1905595e",
   "metadata": {},
   "source": [
    "## Q 21.  Which demographic patients are prone to get stroke."
   ]
  },
  {
   "cell_type": "code",
   "execution_count": 44,
   "id": "b58bbe70",
   "metadata": {},
   "outputs": [
    {
     "data": {
      "text/plain": [
       "'White'"
      ]
     },
     "execution_count": 44,
     "metadata": {},
     "output_type": "execute_result"
    }
   ],
   "source": [
    "workbook_url = 'HospitalDatabase.xlsx'\n",
    "Patients_df = pd.read_excel(workbook_url,sheet_name='Patients')\n",
    "Discharges_df = pd.read_excel(workbook_url,sheet_name='Discharges')\n",
    "merged = Patients_df.merge(Discharges_df, left_on='PatientID', right_on='PatientID')\n",
    "df = merged.loc[(merged['PrimaryDiagnosis'] == \"Stroke\")]\n",
    "df['Race'].max()\n"
   ]
  },
  {
   "cell_type": "markdown",
   "id": "72d9ad4a",
   "metadata": {},
   "source": [
    "## Q. 28 Which reason of visit has maximum mortality rate."
   ]
  },
  {
   "cell_type": "code",
   "execution_count": 36,
   "id": "c3c15d01",
   "metadata": {},
   "outputs": [
    {
     "data": {
      "text/plain": [
       "482    Pneumonia\n",
       "Name: ReasonForVisit, dtype: object"
      ]
     },
     "execution_count": 36,
     "metadata": {},
     "output_type": "execute_result"
    }
   ],
   "source": [
    "import pandas as pd\n",
    "import numpy as np\n",
    "import datetime as date\n",
    "workbook_url = 'HospitalDatabase.xlsx'\n",
    "EDVisits_df = pd.read_excel(workbook_url,sheet_name='EDVisits')\n",
    "EDVisits_df\n",
    "workbook_url = 'HospitalDatabase.xlsx'\n",
    "Discharges_df = pd.read_excel(workbook_url,sheet_name='Discharges')\n",
    "max_mortality_val=Discharges_df['ExpectedMortality'].max()\n",
    "max_mortality_val\n",
    "EDVisits_df['visit'] = (EDVisits_df['ReasonForVisit'])\n",
    "EDVisits_df\n",
    "merged = EDVisits_df.merge(Discharges_df, left_on='PatientID', right_on='PatientID')\n",
    "merged\n",
    "df = merged.loc[(merged['ExpectedMortality'] == max_mortality_val)]\n",
    "df['ReasonForVisit']"
   ]
  },
  {
   "cell_type": "markdown",
   "id": "be76cb80",
   "metadata": {},
   "source": [
    "## Q30. Which patient id has most entries in readmission registry."
   ]
  },
  {
   "cell_type": "code",
   "execution_count": 43,
   "id": "ed82daaa",
   "metadata": {},
   "outputs": [
    {
     "data": {
      "text/plain": [
       "1"
      ]
     },
     "execution_count": 43,
     "metadata": {},
     "output_type": "execute_result"
    }
   ],
   "source": [
    "import pandas as pd\n",
    "import numpy as np\n",
    "import seaborn as sns\n",
    "import matplotlib.pyplot as plt\n",
    "workbook_url = 'HospitalDatabase.xlsx'\n",
    "ReAdmissionRegistry_df = pd.read_excel(workbook_url,sheet_name='ReAdmissionRegistry')\n",
    "ReAdmissionRegistry_df\n",
    "Patients_df = pd.read_excel(workbook_url,sheet_name='Patients')\n",
    "Patients_df\n",
    "df_9 = Patients_df.merge(ReAdmissionRegistry_df, how = 'outer' ,indicator=True).iloc[0]\n",
    "df_9['PatientID'].tolist()"
   ]
  },
  {
   "cell_type": "markdown",
   "id": "bfba7ed7",
   "metadata": {},
   "source": [
    "## Q 67. Make a pivot table by the no. of patients from the admission date till discharge date."
   ]
  },
  {
   "cell_type": "code",
   "execution_count": 38,
   "id": "62357c07",
   "metadata": {},
   "outputs": [
    {
     "data": {
      "text/html": [
       "<div>\n",
       "<style scoped>\n",
       "    .dataframe tbody tr th:only-of-type {\n",
       "        vertical-align: middle;\n",
       "    }\n",
       "\n",
       "    .dataframe tbody tr th {\n",
       "        vertical-align: top;\n",
       "    }\n",
       "\n",
       "    .dataframe thead th {\n",
       "        text-align: right;\n",
       "    }\n",
       "</style>\n",
       "<table border=\"1\" class=\"dataframe\">\n",
       "  <thead>\n",
       "    <tr style=\"text-align: right;\">\n",
       "      <th></th>\n",
       "      <th></th>\n",
       "      <th>AdmissionID</th>\n",
       "      <th>DischargeDisposition</th>\n",
       "      <th>ExpectedLOS</th>\n",
       "      <th>ExpectedMortality</th>\n",
       "      <th>PatientID</th>\n",
       "      <th>PrimaryDiagnosis</th>\n",
       "      <th>Service</th>\n",
       "    </tr>\n",
       "    <tr>\n",
       "      <th>AdmissionDate</th>\n",
       "      <th>DischargeDate</th>\n",
       "      <th></th>\n",
       "      <th></th>\n",
       "      <th></th>\n",
       "      <th></th>\n",
       "      <th></th>\n",
       "      <th></th>\n",
       "      <th></th>\n",
       "    </tr>\n",
       "  </thead>\n",
       "  <tbody>\n",
       "    <tr>\n",
       "      <th rowspan=\"5\" valign=\"top\">2018-01-01</th>\n",
       "      <th>2018-01-04 19:59:31.391</th>\n",
       "      <td>1</td>\n",
       "      <td>1</td>\n",
       "      <td>1</td>\n",
       "      <td>1</td>\n",
       "      <td>1</td>\n",
       "      <td>1</td>\n",
       "      <td>1</td>\n",
       "    </tr>\n",
       "    <tr>\n",
       "      <th>2018-01-04 21:28:51.898</th>\n",
       "      <td>1</td>\n",
       "      <td>1</td>\n",
       "      <td>1</td>\n",
       "      <td>1</td>\n",
       "      <td>1</td>\n",
       "      <td>1</td>\n",
       "      <td>1</td>\n",
       "    </tr>\n",
       "    <tr>\n",
       "      <th>2018-01-04 22:28:23.672</th>\n",
       "      <td>1</td>\n",
       "      <td>1</td>\n",
       "      <td>1</td>\n",
       "      <td>1</td>\n",
       "      <td>1</td>\n",
       "      <td>1</td>\n",
       "      <td>1</td>\n",
       "    </tr>\n",
       "    <tr>\n",
       "      <th>2018-01-05 05:47:04.933</th>\n",
       "      <td>1</td>\n",
       "      <td>1</td>\n",
       "      <td>1</td>\n",
       "      <td>1</td>\n",
       "      <td>1</td>\n",
       "      <td>1</td>\n",
       "      <td>1</td>\n",
       "    </tr>\n",
       "    <tr>\n",
       "      <th>2018-01-05 14:18:30.029</th>\n",
       "      <td>1</td>\n",
       "      <td>1</td>\n",
       "      <td>1</td>\n",
       "      <td>1</td>\n",
       "      <td>1</td>\n",
       "      <td>1</td>\n",
       "      <td>1</td>\n",
       "    </tr>\n",
       "    <tr>\n",
       "      <th>...</th>\n",
       "      <th>...</th>\n",
       "      <td>...</td>\n",
       "      <td>...</td>\n",
       "      <td>...</td>\n",
       "      <td>...</td>\n",
       "      <td>...</td>\n",
       "      <td>...</td>\n",
       "      <td>...</td>\n",
       "    </tr>\n",
       "    <tr>\n",
       "      <th rowspan=\"5\" valign=\"top\">2018-02-22</th>\n",
       "      <th>2018-03-07 21:22:10.061</th>\n",
       "      <td>1</td>\n",
       "      <td>1</td>\n",
       "      <td>1</td>\n",
       "      <td>1</td>\n",
       "      <td>1</td>\n",
       "      <td>1</td>\n",
       "      <td>1</td>\n",
       "    </tr>\n",
       "    <tr>\n",
       "      <th>2018-03-08 02:43:18.749</th>\n",
       "      <td>1</td>\n",
       "      <td>1</td>\n",
       "      <td>1</td>\n",
       "      <td>1</td>\n",
       "      <td>1</td>\n",
       "      <td>1</td>\n",
       "      <td>1</td>\n",
       "    </tr>\n",
       "    <tr>\n",
       "      <th>2018-03-08 09:27:18.377</th>\n",
       "      <td>1</td>\n",
       "      <td>1</td>\n",
       "      <td>1</td>\n",
       "      <td>1</td>\n",
       "      <td>1</td>\n",
       "      <td>1</td>\n",
       "      <td>1</td>\n",
       "    </tr>\n",
       "    <tr>\n",
       "      <th>2018-03-10 06:06:12.068</th>\n",
       "      <td>1</td>\n",
       "      <td>1</td>\n",
       "      <td>1</td>\n",
       "      <td>1</td>\n",
       "      <td>1</td>\n",
       "      <td>1</td>\n",
       "      <td>1</td>\n",
       "    </tr>\n",
       "    <tr>\n",
       "      <th>2018-03-10 20:38:30.568</th>\n",
       "      <td>1</td>\n",
       "      <td>1</td>\n",
       "      <td>1</td>\n",
       "      <td>1</td>\n",
       "      <td>1</td>\n",
       "      <td>1</td>\n",
       "      <td>1</td>\n",
       "    </tr>\n",
       "  </tbody>\n",
       "</table>\n",
       "<p>720 rows × 7 columns</p>\n",
       "</div>"
      ],
      "text/plain": [
       "                                       AdmissionID  DischargeDisposition  \\\n",
       "AdmissionDate DischargeDate                                                \n",
       "2018-01-01    2018-01-04 19:59:31.391            1                     1   \n",
       "              2018-01-04 21:28:51.898            1                     1   \n",
       "              2018-01-04 22:28:23.672            1                     1   \n",
       "              2018-01-05 05:47:04.933            1                     1   \n",
       "              2018-01-05 14:18:30.029            1                     1   \n",
       "...                                            ...                   ...   \n",
       "2018-02-22    2018-03-07 21:22:10.061            1                     1   \n",
       "              2018-03-08 02:43:18.749            1                     1   \n",
       "              2018-03-08 09:27:18.377            1                     1   \n",
       "              2018-03-10 06:06:12.068            1                     1   \n",
       "              2018-03-10 20:38:30.568            1                     1   \n",
       "\n",
       "                                       ExpectedLOS  ExpectedMortality  \\\n",
       "AdmissionDate DischargeDate                                             \n",
       "2018-01-01    2018-01-04 19:59:31.391            1                  1   \n",
       "              2018-01-04 21:28:51.898            1                  1   \n",
       "              2018-01-04 22:28:23.672            1                  1   \n",
       "              2018-01-05 05:47:04.933            1                  1   \n",
       "              2018-01-05 14:18:30.029            1                  1   \n",
       "...                                            ...                ...   \n",
       "2018-02-22    2018-03-07 21:22:10.061            1                  1   \n",
       "              2018-03-08 02:43:18.749            1                  1   \n",
       "              2018-03-08 09:27:18.377            1                  1   \n",
       "              2018-03-10 06:06:12.068            1                  1   \n",
       "              2018-03-10 20:38:30.568            1                  1   \n",
       "\n",
       "                                       PatientID  PrimaryDiagnosis  Service  \n",
       "AdmissionDate DischargeDate                                                  \n",
       "2018-01-01    2018-01-04 19:59:31.391          1                 1        1  \n",
       "              2018-01-04 21:28:51.898          1                 1        1  \n",
       "              2018-01-04 22:28:23.672          1                 1        1  \n",
       "              2018-01-05 05:47:04.933          1                 1        1  \n",
       "              2018-01-05 14:18:30.029          1                 1        1  \n",
       "...                                          ...               ...      ...  \n",
       "2018-02-22    2018-03-07 21:22:10.061          1                 1        1  \n",
       "              2018-03-08 02:43:18.749          1                 1        1  \n",
       "              2018-03-08 09:27:18.377          1                 1        1  \n",
       "              2018-03-10 06:06:12.068          1                 1        1  \n",
       "              2018-03-10 20:38:30.568          1                 1        1  \n",
       "\n",
       "[720 rows x 7 columns]"
      ]
     },
     "execution_count": 38,
     "metadata": {},
     "output_type": "execute_result"
    }
   ],
   "source": [
    "import pandas as pd\n",
    "df=pd.read_excel('HospitalDatabase.xlsx', 'Discharges')\n",
    "df\n",
    "df.pivot_table(index=['AdmissionDate','DischargeDate'], aggfunc='count')"
   ]
  },
  {
   "cell_type": "markdown",
   "id": "ec8bb13c",
   "metadata": {},
   "source": [
    "## Q62. Display the data for all 'White Female' patients above the age of 50."
   ]
  },
  {
   "cell_type": "code",
   "execution_count": 39,
   "id": "25b6a0c4",
   "metadata": {},
   "outputs": [
    {
     "data": {
      "text/html": [
       "<div>\n",
       "<style scoped>\n",
       "    .dataframe tbody tr th:only-of-type {\n",
       "        vertical-align: middle;\n",
       "    }\n",
       "\n",
       "    .dataframe tbody tr th {\n",
       "        vertical-align: top;\n",
       "    }\n",
       "\n",
       "    .dataframe thead th {\n",
       "        text-align: right;\n",
       "    }\n",
       "</style>\n",
       "<table border=\"1\" class=\"dataframe\">\n",
       "  <thead>\n",
       "    <tr style=\"text-align: right;\">\n",
       "      <th></th>\n",
       "      <th>PatientID</th>\n",
       "      <th>FirstName</th>\n",
       "      <th>LastName</th>\n",
       "      <th>DateOfBirth</th>\n",
       "      <th>Gender</th>\n",
       "      <th>Race</th>\n",
       "      <th>Language</th>\n",
       "      <th>Year</th>\n",
       "      <th>Age</th>\n",
       "    </tr>\n",
       "  </thead>\n",
       "  <tbody>\n",
       "    <tr>\n",
       "      <th>28</th>\n",
       "      <td>29</td>\n",
       "      <td>Ted</td>\n",
       "      <td>Scott</td>\n",
       "      <td>1967-12-09 05:01:37.892</td>\n",
       "      <td>Female</td>\n",
       "      <td>White</td>\n",
       "      <td>Spanish</td>\n",
       "      <td>1967</td>\n",
       "      <td>55</td>\n",
       "    </tr>\n",
       "    <tr>\n",
       "      <th>30</th>\n",
       "      <td>31</td>\n",
       "      <td>Harry</td>\n",
       "      <td>Ding</td>\n",
       "      <td>1960-10-08 01:42:51.212</td>\n",
       "      <td>Female</td>\n",
       "      <td>White</td>\n",
       "      <td>Spanish</td>\n",
       "      <td>1960</td>\n",
       "      <td>62</td>\n",
       "    </tr>\n",
       "    <tr>\n",
       "      <th>33</th>\n",
       "      <td>34</td>\n",
       "      <td>Ted</td>\n",
       "      <td>Hue</td>\n",
       "      <td>1960-11-28 18:05:11.459</td>\n",
       "      <td>Female</td>\n",
       "      <td>White</td>\n",
       "      <td>Spanish</td>\n",
       "      <td>1960</td>\n",
       "      <td>62</td>\n",
       "    </tr>\n",
       "    <tr>\n",
       "      <th>34</th>\n",
       "      <td>35</td>\n",
       "      <td>Fred</td>\n",
       "      <td>Tye</td>\n",
       "      <td>1966-04-14 06:01:07.169</td>\n",
       "      <td>Female</td>\n",
       "      <td>White</td>\n",
       "      <td>Spanish</td>\n",
       "      <td>1966</td>\n",
       "      <td>56</td>\n",
       "    </tr>\n",
       "    <tr>\n",
       "      <th>39</th>\n",
       "      <td>40</td>\n",
       "      <td>Christian</td>\n",
       "      <td>Pow</td>\n",
       "      <td>1971-12-07 11:47:43.885</td>\n",
       "      <td>Female</td>\n",
       "      <td>White</td>\n",
       "      <td>Spanish</td>\n",
       "      <td>1971</td>\n",
       "      <td>51</td>\n",
       "    </tr>\n",
       "    <tr>\n",
       "      <th>...</th>\n",
       "      <td>...</td>\n",
       "      <td>...</td>\n",
       "      <td>...</td>\n",
       "      <td>...</td>\n",
       "      <td>...</td>\n",
       "      <td>...</td>\n",
       "      <td>...</td>\n",
       "      <td>...</td>\n",
       "      <td>...</td>\n",
       "    </tr>\n",
       "    <tr>\n",
       "      <th>865</th>\n",
       "      <td>866</td>\n",
       "      <td>Jermayne</td>\n",
       "      <td>Lowndes</td>\n",
       "      <td>1970-12-09 04:49:48.933</td>\n",
       "      <td>Female</td>\n",
       "      <td>White</td>\n",
       "      <td>English</td>\n",
       "      <td>1970</td>\n",
       "      <td>52</td>\n",
       "    </tr>\n",
       "    <tr>\n",
       "      <th>866</th>\n",
       "      <td>867</td>\n",
       "      <td>Gail</td>\n",
       "      <td>Inc</td>\n",
       "      <td>1967-03-10 08:18:47.908</td>\n",
       "      <td>Female</td>\n",
       "      <td>White</td>\n",
       "      <td>English</td>\n",
       "      <td>1967</td>\n",
       "      <td>55</td>\n",
       "    </tr>\n",
       "    <tr>\n",
       "      <th>867</th>\n",
       "      <td>868</td>\n",
       "      <td>Des</td>\n",
       "      <td>Heindrick</td>\n",
       "      <td>1969-08-15 11:05:30.165</td>\n",
       "      <td>Female</td>\n",
       "      <td>White</td>\n",
       "      <td>English</td>\n",
       "      <td>1969</td>\n",
       "      <td>53</td>\n",
       "    </tr>\n",
       "    <tr>\n",
       "      <th>869</th>\n",
       "      <td>870</td>\n",
       "      <td>Hauck</td>\n",
       "      <td>Rubbens</td>\n",
       "      <td>1963-11-16 03:31:38.929</td>\n",
       "      <td>Female</td>\n",
       "      <td>White</td>\n",
       "      <td>English</td>\n",
       "      <td>1963</td>\n",
       "      <td>59</td>\n",
       "    </tr>\n",
       "    <tr>\n",
       "      <th>873</th>\n",
       "      <td>874</td>\n",
       "      <td>Schroeder</td>\n",
       "      <td>McGarvey</td>\n",
       "      <td>1971-12-09 11:56:22.068</td>\n",
       "      <td>Female</td>\n",
       "      <td>White</td>\n",
       "      <td>English</td>\n",
       "      <td>1971</td>\n",
       "      <td>51</td>\n",
       "    </tr>\n",
       "  </tbody>\n",
       "</table>\n",
       "<p>116 rows × 9 columns</p>\n",
       "</div>"
      ],
      "text/plain": [
       "     PatientID  FirstName   LastName             DateOfBirth  Gender   Race  \\\n",
       "28          29        Ted      Scott 1967-12-09 05:01:37.892  Female  White   \n",
       "30          31      Harry       Ding 1960-10-08 01:42:51.212  Female  White   \n",
       "33          34        Ted        Hue 1960-11-28 18:05:11.459  Female  White   \n",
       "34          35       Fred        Tye 1966-04-14 06:01:07.169  Female  White   \n",
       "39          40  Christian        Pow 1971-12-07 11:47:43.885  Female  White   \n",
       "..         ...        ...        ...                     ...     ...    ...   \n",
       "865        866   Jermayne    Lowndes 1970-12-09 04:49:48.933  Female  White   \n",
       "866        867       Gail        Inc 1967-03-10 08:18:47.908  Female  White   \n",
       "867        868        Des  Heindrick 1969-08-15 11:05:30.165  Female  White   \n",
       "869        870      Hauck    Rubbens 1963-11-16 03:31:38.929  Female  White   \n",
       "873        874  Schroeder   McGarvey 1971-12-09 11:56:22.068  Female  White   \n",
       "\n",
       "    Language  Year  Age  \n",
       "28   Spanish  1967   55  \n",
       "30   Spanish  1960   62  \n",
       "33   Spanish  1960   62  \n",
       "34   Spanish  1966   56  \n",
       "39   Spanish  1971   51  \n",
       "..       ...   ...  ...  \n",
       "865  English  1970   52  \n",
       "866  English  1967   55  \n",
       "867  English  1969   53  \n",
       "869  English  1963   59  \n",
       "873  English  1971   51  \n",
       "\n",
       "[116 rows x 9 columns]"
      ]
     },
     "execution_count": 39,
     "metadata": {},
     "output_type": "execute_result"
    }
   ],
   "source": [
    "Patients_df['DateOfBirth'] = pd.to_datetime(Patients_df['DateOfBirth'])\n",
    "Patients_df['Year'] = Patients_df['DateOfBirth'].dt.year\n",
    "Patients_df['Age'] = 2022 - Patients_df['Year']\n",
    "Patients_df\n",
    "df = Patients_df.loc[(Patients_df['Age'] > 50) & \n",
    "              (Patients_df['Race'] == 'White') & (Patients_df['Gender']== 'Female')]\n",
    "df"
   ]
  },
  {
   "cell_type": "markdown",
   "id": "4c39fbf7",
   "metadata": {},
   "source": [
    "## Q 58. Display total count of patients service wise based on gender."
   ]
  },
  {
   "cell_type": "code",
   "execution_count": 45,
   "id": "50788921",
   "metadata": {},
   "outputs": [
    {
     "data": {
      "text/plain": [
       "Service           Gender\n",
       "General Medicine  Male      149\n",
       "                  Female    114\n",
       "ICU               Male       86\n",
       "Hospitalist       Male       66\n",
       "ICU               Female     65\n",
       "Cardiology        Male       54\n",
       "                  Female     41\n",
       "Hospitalist       Female     35\n",
       "Neurology         Female     34\n",
       "                  Male       31\n",
       "Orthopeadics      Male       23\n",
       "                  Female     22\n",
       "dtype: int64"
      ]
     },
     "execution_count": 45,
     "metadata": {},
     "output_type": "execute_result"
    }
   ],
   "source": [
    "import pandas as pd\n",
    "Patientsdf=pd.read_excel('HospitalDatabase.xlsx', 'Patients')\n",
    "Dischargesdf=pd.read_excel('HospitalDatabase.xlsx', 'Discharges')\n",
    "merged = Patients_df.merge(Discharges_df, left_on='PatientID', right_on='PatientID')\n",
    "merged[['Service','Gender']].value_counts()"
   ]
  },
  {
   "cell_type": "markdown",
   "id": "86d35dd5",
   "metadata": {},
   "source": [
    "## Q 51. Display patient details where \"ReasonForVisit\" is either 'Migraine' or 'Pneumonia' and Acuity is 2 or more."
   ]
  },
  {
   "cell_type": "code",
   "execution_count": 46,
   "id": "dee9cf0f",
   "metadata": {},
   "outputs": [
    {
     "data": {
      "text/html": [
       "<div>\n",
       "<style scoped>\n",
       "    .dataframe tbody tr th:only-of-type {\n",
       "        vertical-align: middle;\n",
       "    }\n",
       "\n",
       "    .dataframe tbody tr th {\n",
       "        vertical-align: top;\n",
       "    }\n",
       "\n",
       "    .dataframe thead th {\n",
       "        text-align: right;\n",
       "    }\n",
       "</style>\n",
       "<table border=\"1\" class=\"dataframe\">\n",
       "  <thead>\n",
       "    <tr style=\"text-align: right;\">\n",
       "      <th></th>\n",
       "      <th>EDVisitID</th>\n",
       "      <th>PatientID</th>\n",
       "      <th>VisitDate</th>\n",
       "      <th>EDDischargeTime</th>\n",
       "      <th>Acuity</th>\n",
       "      <th>ReasonForVisit</th>\n",
       "      <th>EDDisposition</th>\n",
       "    </tr>\n",
       "  </thead>\n",
       "  <tbody>\n",
       "    <tr>\n",
       "      <th>3</th>\n",
       "      <td>14</td>\n",
       "      <td>14</td>\n",
       "      <td>2020-01-01 03:12:19.349</td>\n",
       "      <td>2020-01-01 04:32:29.142</td>\n",
       "      <td>3</td>\n",
       "      <td>Migraine</td>\n",
       "      <td>Admitted</td>\n",
       "    </tr>\n",
       "    <tr>\n",
       "      <th>12</th>\n",
       "      <td>30</td>\n",
       "      <td>30</td>\n",
       "      <td>2020-01-01 07:25:54.177</td>\n",
       "      <td>2020-01-01 23:30:20.151</td>\n",
       "      <td>3</td>\n",
       "      <td>Pneumonia</td>\n",
       "      <td>Admitted</td>\n",
       "    </tr>\n",
       "    <tr>\n",
       "      <th>13</th>\n",
       "      <td>31</td>\n",
       "      <td>31</td>\n",
       "      <td>2020-01-01 07:32:51.917</td>\n",
       "      <td>2020-01-01 19:55:46.991</td>\n",
       "      <td>4</td>\n",
       "      <td>Pneumonia</td>\n",
       "      <td>Admitted</td>\n",
       "    </tr>\n",
       "    <tr>\n",
       "      <th>16</th>\n",
       "      <td>44</td>\n",
       "      <td>44</td>\n",
       "      <td>2020-01-01 11:41:20.981</td>\n",
       "      <td>2020-01-02 05:18:13.677</td>\n",
       "      <td>4</td>\n",
       "      <td>Pneumonia</td>\n",
       "      <td>Admitted</td>\n",
       "    </tr>\n",
       "    <tr>\n",
       "      <th>21</th>\n",
       "      <td>53</td>\n",
       "      <td>53</td>\n",
       "      <td>2020-01-01 14:28:21.684</td>\n",
       "      <td>2020-01-01 22:29:33.906</td>\n",
       "      <td>4</td>\n",
       "      <td>Pneumonia</td>\n",
       "      <td>Admitted</td>\n",
       "    </tr>\n",
       "    <tr>\n",
       "      <th>...</th>\n",
       "      <td>...</td>\n",
       "      <td>...</td>\n",
       "      <td>...</td>\n",
       "      <td>...</td>\n",
       "      <td>...</td>\n",
       "      <td>...</td>\n",
       "      <td>...</td>\n",
       "    </tr>\n",
       "    <tr>\n",
       "      <th>491</th>\n",
       "      <td>1158</td>\n",
       "      <td>904</td>\n",
       "      <td>2020-01-15 02:06:42.088</td>\n",
       "      <td>2020-01-15 07:04:01.523</td>\n",
       "      <td>4</td>\n",
       "      <td>Pneumonia</td>\n",
       "      <td>Admitted</td>\n",
       "    </tr>\n",
       "    <tr>\n",
       "      <th>496</th>\n",
       "      <td>1167</td>\n",
       "      <td>913</td>\n",
       "      <td>2020-01-15 05:09:22.987</td>\n",
       "      <td>2020-01-16 03:57:13.244</td>\n",
       "      <td>4</td>\n",
       "      <td>Pneumonia</td>\n",
       "      <td>Admitted</td>\n",
       "    </tr>\n",
       "    <tr>\n",
       "      <th>498</th>\n",
       "      <td>1169</td>\n",
       "      <td>915</td>\n",
       "      <td>2020-01-15 05:30:02.889</td>\n",
       "      <td>2020-01-15 18:47:12.044</td>\n",
       "      <td>3</td>\n",
       "      <td>Migraine</td>\n",
       "      <td>Admitted</td>\n",
       "    </tr>\n",
       "    <tr>\n",
       "      <th>499</th>\n",
       "      <td>1170</td>\n",
       "      <td>916</td>\n",
       "      <td>2020-01-15 05:57:29.834</td>\n",
       "      <td>2020-01-15 06:03:50.631</td>\n",
       "      <td>4</td>\n",
       "      <td>Pneumonia</td>\n",
       "      <td>Admitted</td>\n",
       "    </tr>\n",
       "    <tr>\n",
       "      <th>501</th>\n",
       "      <td>1172</td>\n",
       "      <td>918</td>\n",
       "      <td>2020-01-15 06:51:43.655</td>\n",
       "      <td>2020-01-15 16:27:42.410</td>\n",
       "      <td>5</td>\n",
       "      <td>Pneumonia</td>\n",
       "      <td>Admitted</td>\n",
       "    </tr>\n",
       "  </tbody>\n",
       "</table>\n",
       "<p>121 rows × 7 columns</p>\n",
       "</div>"
      ],
      "text/plain": [
       "     EDVisitID  PatientID               VisitDate         EDDischargeTime  \\\n",
       "3           14         14 2020-01-01 03:12:19.349 2020-01-01 04:32:29.142   \n",
       "12          30         30 2020-01-01 07:25:54.177 2020-01-01 23:30:20.151   \n",
       "13          31         31 2020-01-01 07:32:51.917 2020-01-01 19:55:46.991   \n",
       "16          44         44 2020-01-01 11:41:20.981 2020-01-02 05:18:13.677   \n",
       "21          53         53 2020-01-01 14:28:21.684 2020-01-01 22:29:33.906   \n",
       "..         ...        ...                     ...                     ...   \n",
       "491       1158        904 2020-01-15 02:06:42.088 2020-01-15 07:04:01.523   \n",
       "496       1167        913 2020-01-15 05:09:22.987 2020-01-16 03:57:13.244   \n",
       "498       1169        915 2020-01-15 05:30:02.889 2020-01-15 18:47:12.044   \n",
       "499       1170        916 2020-01-15 05:57:29.834 2020-01-15 06:03:50.631   \n",
       "501       1172        918 2020-01-15 06:51:43.655 2020-01-15 16:27:42.410   \n",
       "\n",
       "     Acuity ReasonForVisit EDDisposition  \n",
       "3         3       Migraine      Admitted  \n",
       "12        3      Pneumonia      Admitted  \n",
       "13        4      Pneumonia      Admitted  \n",
       "16        4      Pneumonia      Admitted  \n",
       "21        4      Pneumonia      Admitted  \n",
       "..      ...            ...           ...  \n",
       "491       4      Pneumonia      Admitted  \n",
       "496       4      Pneumonia      Admitted  \n",
       "498       3       Migraine      Admitted  \n",
       "499       4      Pneumonia      Admitted  \n",
       "501       5      Pneumonia      Admitted  \n",
       "\n",
       "[121 rows x 7 columns]"
      ]
     },
     "execution_count": 46,
     "metadata": {},
     "output_type": "execute_result"
    }
   ],
   "source": [
    "workbook_url = 'HospitalDatabase.xlsx'\n",
    "Edvisits_df = pd.read_excel(workbook_url,sheet_name='EDVisits')\n",
    "Edvisits_df\n",
    "Edvisits_df.loc[(Edvisits_df['Acuity']>2) & ((Edvisits_df['ReasonForVisit']=='Migraine') | (Edvisits_df['ReasonForVisit']=='Pneumonia'))]"
   ]
  },
  {
   "cell_type": "code",
   "execution_count": null,
   "id": "1f833055",
   "metadata": {},
   "outputs": [],
   "source": []
  }
 ],
 "metadata": {
  "kernelspec": {
   "display_name": "Python 3 (ipykernel)",
   "language": "python",
   "name": "python3"
  },
  "language_info": {
   "codemirror_mode": {
    "name": "ipython",
    "version": 3
   },
   "file_extension": ".py",
   "mimetype": "text/x-python",
   "name": "python",
   "nbconvert_exporter": "python",
   "pygments_lexer": "ipython3",
   "version": "3.9.12"
  }
 },
 "nbformat": 4,
 "nbformat_minor": 5
}
