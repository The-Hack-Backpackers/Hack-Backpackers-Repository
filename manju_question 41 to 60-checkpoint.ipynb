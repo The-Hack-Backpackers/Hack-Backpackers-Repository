{
 "cells": [
  {
   "cell_type": "markdown",
   "id": "1e7c6108",
   "metadata": {},
   "source": [
    "# 41 visit type with maximum 'No show'"
   ]
  },
  {
   "cell_type": "code",
   "execution_count": 13,
   "id": "95733172",
   "metadata": {},
   "outputs": [
    {
     "data": {
      "text/html": [
       "<div>\n",
       "<style scoped>\n",
       "    .dataframe tbody tr th:only-of-type {\n",
       "        vertical-align: middle;\n",
       "    }\n",
       "\n",
       "    .dataframe tbody tr th {\n",
       "        vertical-align: top;\n",
       "    }\n",
       "\n",
       "    .dataframe thead th {\n",
       "        text-align: right;\n",
       "    }\n",
       "</style>\n",
       "<table border=\"1\" class=\"dataframe\">\n",
       "  <thead>\n",
       "    <tr style=\"text-align: right;\">\n",
       "      <th></th>\n",
       "      <th>VisitID</th>\n",
       "      <th>PatientMRN</th>\n",
       "      <th>ProviderID</th>\n",
       "      <th>DateofVisit</th>\n",
       "      <th>DateScheduled</th>\n",
       "      <th>VisitDepartmentID</th>\n",
       "      <th>VisitType</th>\n",
       "      <th>BloodPressureSystolic</th>\n",
       "      <th>BloodPressureDiastolic</th>\n",
       "      <th>Pulse</th>\n",
       "      <th>VisitStatus</th>\n",
       "    </tr>\n",
       "  </thead>\n",
       "  <tbody>\n",
       "    <tr>\n",
       "      <th>0</th>\n",
       "      <td>202</td>\n",
       "      <td>840</td>\n",
       "      <td>29</td>\n",
       "      <td>3/19/2019</td>\n",
       "      <td>3/13/2019</td>\n",
       "      <td>10</td>\n",
       "      <td>Physical</td>\n",
       "      <td>188.0</td>\n",
       "      <td>144.143427</td>\n",
       "      <td>83.044920</td>\n",
       "      <td>No Show</td>\n",
       "    </tr>\n",
       "    <tr>\n",
       "      <th>1</th>\n",
       "      <td>436</td>\n",
       "      <td>820</td>\n",
       "      <td>25</td>\n",
       "      <td>3/19/2019</td>\n",
       "      <td>2/24/2019</td>\n",
       "      <td>3</td>\n",
       "      <td>Follow Up</td>\n",
       "      <td>179.0</td>\n",
       "      <td>118.876808</td>\n",
       "      <td>90.309544</td>\n",
       "      <td>No Show</td>\n",
       "    </tr>\n",
       "    <tr>\n",
       "      <th>2</th>\n",
       "      <td>794</td>\n",
       "      <td>879</td>\n",
       "      <td>30</td>\n",
       "      <td>4/2/2019</td>\n",
       "      <td>3/19/2019</td>\n",
       "      <td>11</td>\n",
       "      <td>Telemedicine</td>\n",
       "      <td>133.0</td>\n",
       "      <td>98.749563</td>\n",
       "      <td>80.859776</td>\n",
       "      <td>No Show</td>\n",
       "    </tr>\n",
       "    <tr>\n",
       "      <th>3</th>\n",
       "      <td>799</td>\n",
       "      <td>884</td>\n",
       "      <td>37</td>\n",
       "      <td>3/3/2019</td>\n",
       "      <td>2/25/2019</td>\n",
       "      <td>4</td>\n",
       "      <td>Telemedicine</td>\n",
       "      <td>132.0</td>\n",
       "      <td>98.001270</td>\n",
       "      <td>82.184737</td>\n",
       "      <td>No Show</td>\n",
       "    </tr>\n",
       "    <tr>\n",
       "      <th>4</th>\n",
       "      <td>515</td>\n",
       "      <td>32</td>\n",
       "      <td>26</td>\n",
       "      <td>3/16/2019</td>\n",
       "      <td>2/20/2019</td>\n",
       "      <td>11</td>\n",
       "      <td>Telemedicine</td>\n",
       "      <td>131.0</td>\n",
       "      <td>85.115632</td>\n",
       "      <td>89.192362</td>\n",
       "      <td>No Show</td>\n",
       "    </tr>\n",
       "    <tr>\n",
       "      <th>...</th>\n",
       "      <td>...</td>\n",
       "      <td>...</td>\n",
       "      <td>...</td>\n",
       "      <td>...</td>\n",
       "      <td>...</td>\n",
       "      <td>...</td>\n",
       "      <td>...</td>\n",
       "      <td>...</td>\n",
       "      <td>...</td>\n",
       "      <td>...</td>\n",
       "      <td>...</td>\n",
       "    </tr>\n",
       "    <tr>\n",
       "      <th>149</th>\n",
       "      <td>414</td>\n",
       "      <td>90</td>\n",
       "      <td>3</td>\n",
       "      <td>2/25/2019</td>\n",
       "      <td>2/17/2019</td>\n",
       "      <td>5</td>\n",
       "      <td>Follow Up</td>\n",
       "      <td>136.0</td>\n",
       "      <td>90.802316</td>\n",
       "      <td>79.426026</td>\n",
       "      <td>No Show</td>\n",
       "    </tr>\n",
       "    <tr>\n",
       "      <th>150</th>\n",
       "      <td>507</td>\n",
       "      <td>891</td>\n",
       "      <td>16</td>\n",
       "      <td>1/25/2019</td>\n",
       "      <td>1/14/2019</td>\n",
       "      <td>11</td>\n",
       "      <td>Telemedicine</td>\n",
       "      <td>155.0</td>\n",
       "      <td>112.064259</td>\n",
       "      <td>73.714965</td>\n",
       "      <td>No Show</td>\n",
       "    </tr>\n",
       "    <tr>\n",
       "      <th>151</th>\n",
       "      <td>410</td>\n",
       "      <td>90</td>\n",
       "      <td>22</td>\n",
       "      <td>2/21/2019</td>\n",
       "      <td>1/31/2019</td>\n",
       "      <td>1</td>\n",
       "      <td>Follow Up</td>\n",
       "      <td>131.0</td>\n",
       "      <td>80.726116</td>\n",
       "      <td>54.947675</td>\n",
       "      <td>No Show</td>\n",
       "    </tr>\n",
       "    <tr>\n",
       "      <th>152</th>\n",
       "      <td>803</td>\n",
       "      <td>888</td>\n",
       "      <td>15</td>\n",
       "      <td>3/7/2019</td>\n",
       "      <td>2/25/2019</td>\n",
       "      <td>8</td>\n",
       "      <td>Telemedicine</td>\n",
       "      <td>173.0</td>\n",
       "      <td>136.377032</td>\n",
       "      <td>58.024363</td>\n",
       "      <td>No Show</td>\n",
       "    </tr>\n",
       "    <tr>\n",
       "      <th>153</th>\n",
       "      <td>505</td>\n",
       "      <td>889</td>\n",
       "      <td>14</td>\n",
       "      <td>1/23/2019</td>\n",
       "      <td>1/22/2019</td>\n",
       "      <td>9</td>\n",
       "      <td>Telemedicine</td>\n",
       "      <td>136.0</td>\n",
       "      <td>99.161951</td>\n",
       "      <td>66.998029</td>\n",
       "      <td>No Show</td>\n",
       "    </tr>\n",
       "  </tbody>\n",
       "</table>\n",
       "<p>154 rows × 11 columns</p>\n",
       "</div>"
      ],
      "text/plain": [
       "     VisitID  PatientMRN  ProviderID DateofVisit DateScheduled  \\\n",
       "0        202         840          29   3/19/2019     3/13/2019   \n",
       "1        436         820          25   3/19/2019     2/24/2019   \n",
       "2        794         879          30    4/2/2019     3/19/2019   \n",
       "3        799         884          37    3/3/2019     2/25/2019   \n",
       "4        515          32          26   3/16/2019     2/20/2019   \n",
       "..       ...         ...         ...         ...           ...   \n",
       "149      414          90           3   2/25/2019     2/17/2019   \n",
       "150      507         891          16   1/25/2019     1/14/2019   \n",
       "151      410          90          22   2/21/2019     1/31/2019   \n",
       "152      803         888          15    3/7/2019     2/25/2019   \n",
       "153      505         889          14   1/23/2019     1/22/2019   \n",
       "\n",
       "     VisitDepartmentID     VisitType  BloodPressureSystolic  \\\n",
       "0                   10      Physical                  188.0   \n",
       "1                    3     Follow Up                  179.0   \n",
       "2                   11  Telemedicine                  133.0   \n",
       "3                    4  Telemedicine                  132.0   \n",
       "4                   11  Telemedicine                  131.0   \n",
       "..                 ...           ...                    ...   \n",
       "149                  5     Follow Up                  136.0   \n",
       "150                 11  Telemedicine                  155.0   \n",
       "151                  1     Follow Up                  131.0   \n",
       "152                  8  Telemedicine                  173.0   \n",
       "153                  9  Telemedicine                  136.0   \n",
       "\n",
       "     BloodPressureDiastolic      Pulse VisitStatus  \n",
       "0                144.143427  83.044920     No Show  \n",
       "1                118.876808  90.309544     No Show  \n",
       "2                 98.749563  80.859776     No Show  \n",
       "3                 98.001270  82.184737     No Show  \n",
       "4                 85.115632  89.192362     No Show  \n",
       "..                      ...        ...         ...  \n",
       "149               90.802316  79.426026     No Show  \n",
       "150              112.064259  73.714965     No Show  \n",
       "151               80.726116  54.947675     No Show  \n",
       "152              136.377032  58.024363     No Show  \n",
       "153               99.161951  66.998029     No Show  \n",
       "\n",
       "[154 rows x 11 columns]"
      ]
     },
     "execution_count": 13,
     "metadata": {},
     "output_type": "execute_result"
    }
   ],
   "source": [
    "import pandas as pd\n",
    "df=pd.read_csv('HospitalDatabase-AmulateryVisit.csv')\n",
    "df.loc[(df['VisitStatus']=='No Show'),:]"
   ]
  },
  {
   "cell_type": "markdown",
   "id": "31866075",
   "metadata": {},
   "source": [
    "# Q.No.42 Using loc , get the details of the providers where providerId is between 11 and 20 and ProviderSpecialty is Surgery."
   ]
  },
  {
   "cell_type": "code",
   "execution_count": 16,
   "id": "3be22317",
   "metadata": {},
   "outputs": [
    {
     "data": {
      "text/html": [
       "<div>\n",
       "<style scoped>\n",
       "    .dataframe tbody tr th:only-of-type {\n",
       "        vertical-align: middle;\n",
       "    }\n",
       "\n",
       "    .dataframe tbody tr th {\n",
       "        vertical-align: top;\n",
       "    }\n",
       "\n",
       "    .dataframe thead th {\n",
       "        text-align: right;\n",
       "    }\n",
       "</style>\n",
       "<table border=\"1\" class=\"dataframe\">\n",
       "  <thead>\n",
       "    <tr style=\"text-align: right;\">\n",
       "      <th></th>\n",
       "      <th>ProviderID</th>\n",
       "      <th>ProviderName</th>\n",
       "      <th>ProviderSpecialty</th>\n",
       "      <th>ProviderDateOnStaff</th>\n",
       "    </tr>\n",
       "  </thead>\n",
       "  <tbody>\n",
       "    <tr>\n",
       "      <th>9</th>\n",
       "      <td>10</td>\n",
       "      <td>Fred Man</td>\n",
       "      <td>Surgery</td>\n",
       "      <td>3/17/1998</td>\n",
       "    </tr>\n",
       "    <tr>\n",
       "      <th>10</th>\n",
       "      <td>11</td>\n",
       "      <td>Kim Kimberly</td>\n",
       "      <td>Surgery</td>\n",
       "      <td>5/10/1998</td>\n",
       "    </tr>\n",
       "    <tr>\n",
       "      <th>11</th>\n",
       "      <td>12</td>\n",
       "      <td>Sarah Ab</td>\n",
       "      <td>Surgery</td>\n",
       "      <td>8/18/1998</td>\n",
       "    </tr>\n",
       "    <tr>\n",
       "      <th>12</th>\n",
       "      <td>13</td>\n",
       "      <td>Abigail Marriot</td>\n",
       "      <td>Surgery</td>\n",
       "      <td>11/8/1998</td>\n",
       "    </tr>\n",
       "    <tr>\n",
       "      <th>13</th>\n",
       "      <td>14</td>\n",
       "      <td>Dave Yu</td>\n",
       "      <td>Surgery</td>\n",
       "      <td>6/26/1999</td>\n",
       "    </tr>\n",
       "    <tr>\n",
       "      <th>14</th>\n",
       "      <td>15</td>\n",
       "      <td>Christian Saint</td>\n",
       "      <td>Surgery</td>\n",
       "      <td>8/27/2000</td>\n",
       "    </tr>\n",
       "    <tr>\n",
       "      <th>15</th>\n",
       "      <td>16</td>\n",
       "      <td>Perry Pardon</td>\n",
       "      <td>Surgery</td>\n",
       "      <td>2/13/2001</td>\n",
       "    </tr>\n",
       "  </tbody>\n",
       "</table>\n",
       "</div>"
      ],
      "text/plain": [
       "    ProviderID     ProviderName ProviderSpecialty ProviderDateOnStaff\n",
       "9           10         Fred Man           Surgery           3/17/1998\n",
       "10          11     Kim Kimberly           Surgery           5/10/1998\n",
       "11          12         Sarah Ab           Surgery           8/18/1998\n",
       "12          13  Abigail Marriot           Surgery           11/8/1998\n",
       "13          14          Dave Yu           Surgery           6/26/1999\n",
       "14          15  Christian Saint           Surgery           8/27/2000\n",
       "15          16     Perry Pardon           Surgery           2/13/2001"
      ]
     },
     "execution_count": 16,
     "metadata": {},
     "output_type": "execute_result"
    }
   ],
   "source": [
    "import pandas as pd\n",
    "df=pd.read_csv('HospitalDatabase-Providers (1).csv')\n",
    "df.loc[(df['ProviderSpecialty']=='Surgery'),:]"
   ]
  },
  {
   "cell_type": "markdown",
   "id": "5be37f47",
   "metadata": {},
   "source": [
    "# 44Create a pivot table displaying average LOS based on Service and Primary Diagnosis."
   ]
  },
  {
   "cell_type": "code",
   "execution_count": 17,
   "id": "639a0f26",
   "metadata": {},
   "outputs": [
    {
     "data": {
      "text/html": [
       "<div>\n",
       "<style scoped>\n",
       "    .dataframe tbody tr th:only-of-type {\n",
       "        vertical-align: middle;\n",
       "    }\n",
       "\n",
       "    .dataframe tbody tr th {\n",
       "        vertical-align: top;\n",
       "    }\n",
       "\n",
       "    .dataframe thead th {\n",
       "        text-align: right;\n",
       "    }\n",
       "</style>\n",
       "<table border=\"1\" class=\"dataframe\">\n",
       "  <thead>\n",
       "    <tr style=\"text-align: right;\">\n",
       "      <th></th>\n",
       "      <th>AdmissionID</th>\n",
       "      <th>PatientID</th>\n",
       "      <th>AdmissionDate</th>\n",
       "      <th>DischargeDate</th>\n",
       "      <th>DischargeDisposition</th>\n",
       "      <th>Service</th>\n",
       "      <th>PrimaryDiagnosis</th>\n",
       "      <th>ExpectedLOS</th>\n",
       "      <th>ExpectedMortality</th>\n",
       "    </tr>\n",
       "  </thead>\n",
       "  <tbody>\n",
       "    <tr>\n",
       "      <th>0</th>\n",
       "      <td>1</td>\n",
       "      <td>9</td>\n",
       "      <td>1/1/2018</td>\n",
       "      <td>1/7/2018</td>\n",
       "      <td>Expired</td>\n",
       "      <td>Cardiology</td>\n",
       "      <td>AMI</td>\n",
       "      <td>9.646857</td>\n",
       "      <td>0.061540</td>\n",
       "    </tr>\n",
       "    <tr>\n",
       "      <th>1</th>\n",
       "      <td>257</td>\n",
       "      <td>93</td>\n",
       "      <td>1/6/2018</td>\n",
       "      <td>1/18/2018</td>\n",
       "      <td>Expired</td>\n",
       "      <td>Cardiology</td>\n",
       "      <td>Broken Leg</td>\n",
       "      <td>6.816558</td>\n",
       "      <td>0.628827</td>\n",
       "    </tr>\n",
       "    <tr>\n",
       "      <th>2</th>\n",
       "      <td>152</td>\n",
       "      <td>101</td>\n",
       "      <td>1/7/2018</td>\n",
       "      <td>1/11/2018</td>\n",
       "      <td>Expired</td>\n",
       "      <td>Cardiology</td>\n",
       "      <td>Kidney Failure</td>\n",
       "      <td>6.580273</td>\n",
       "      <td>0.573887</td>\n",
       "    </tr>\n",
       "    <tr>\n",
       "      <th>3</th>\n",
       "      <td>361</td>\n",
       "      <td>102</td>\n",
       "      <td>1/7/2018</td>\n",
       "      <td>1/15/2018</td>\n",
       "      <td>Expired</td>\n",
       "      <td>Cardiology</td>\n",
       "      <td>Afib</td>\n",
       "      <td>12.794536</td>\n",
       "      <td>0.222163</td>\n",
       "    </tr>\n",
       "    <tr>\n",
       "      <th>4</th>\n",
       "      <td>258</td>\n",
       "      <td>103</td>\n",
       "      <td>1/7/2018</td>\n",
       "      <td>1/15/2018</td>\n",
       "      <td>Expired</td>\n",
       "      <td>Cardiology</td>\n",
       "      <td>Broken Leg</td>\n",
       "      <td>2.639297</td>\n",
       "      <td>0.055468</td>\n",
       "    </tr>\n",
       "    <tr>\n",
       "      <th>...</th>\n",
       "      <td>...</td>\n",
       "      <td>...</td>\n",
       "      <td>...</td>\n",
       "      <td>...</td>\n",
       "      <td>...</td>\n",
       "      <td>...</td>\n",
       "      <td>...</td>\n",
       "      <td>...</td>\n",
       "      <td>...</td>\n",
       "    </tr>\n",
       "    <tr>\n",
       "      <th>715</th>\n",
       "      <td>715</td>\n",
       "      <td>716</td>\n",
       "      <td>2/21/2018</td>\n",
       "      <td>3/6/2018</td>\n",
       "      <td>Transfer</td>\n",
       "      <td>ICU</td>\n",
       "      <td>Heart Failure</td>\n",
       "      <td>11.362095</td>\n",
       "      <td>0.370695</td>\n",
       "    </tr>\n",
       "    <tr>\n",
       "      <th>716</th>\n",
       "      <td>698</td>\n",
       "      <td>723</td>\n",
       "      <td>2/22/2018</td>\n",
       "      <td>2/26/2018</td>\n",
       "      <td>Transfer</td>\n",
       "      <td>ICU</td>\n",
       "      <td>Heart Failure</td>\n",
       "      <td>10.262312</td>\n",
       "      <td>0.812930</td>\n",
       "    </tr>\n",
       "    <tr>\n",
       "      <th>717</th>\n",
       "      <td>704</td>\n",
       "      <td>724</td>\n",
       "      <td>2/22/2018</td>\n",
       "      <td>2/27/2018</td>\n",
       "      <td>Transfer</td>\n",
       "      <td>General Medicine</td>\n",
       "      <td>Pneumonia</td>\n",
       "      <td>6.036234</td>\n",
       "      <td>0.094128</td>\n",
       "    </tr>\n",
       "    <tr>\n",
       "      <th>718</th>\n",
       "      <td>716</td>\n",
       "      <td>733</td>\n",
       "      <td>2/22/2018</td>\n",
       "      <td>3/5/2018</td>\n",
       "      <td>Transfer</td>\n",
       "      <td>ICU</td>\n",
       "      <td>Heart Failure</td>\n",
       "      <td>13.323413</td>\n",
       "      <td>0.490892</td>\n",
       "    </tr>\n",
       "    <tr>\n",
       "      <th>719</th>\n",
       "      <td>710</td>\n",
       "      <td>742</td>\n",
       "      <td>2/22/2018</td>\n",
       "      <td>3/10/2018</td>\n",
       "      <td>Transfer</td>\n",
       "      <td>General Medicine</td>\n",
       "      <td>Diabetes</td>\n",
       "      <td>7.195441</td>\n",
       "      <td>0.286439</td>\n",
       "    </tr>\n",
       "  </tbody>\n",
       "</table>\n",
       "<p>720 rows × 9 columns</p>\n",
       "</div>"
      ],
      "text/plain": [
       "     AdmissionID  PatientID AdmissionDate DischargeDate DischargeDisposition  \\\n",
       "0              1          9      1/1/2018      1/7/2018              Expired   \n",
       "1            257         93      1/6/2018     1/18/2018              Expired   \n",
       "2            152        101      1/7/2018     1/11/2018              Expired   \n",
       "3            361        102      1/7/2018     1/15/2018              Expired   \n",
       "4            258        103      1/7/2018     1/15/2018              Expired   \n",
       "..           ...        ...           ...           ...                  ...   \n",
       "715          715        716     2/21/2018      3/6/2018             Transfer   \n",
       "716          698        723     2/22/2018     2/26/2018             Transfer   \n",
       "717          704        724     2/22/2018     2/27/2018             Transfer   \n",
       "718          716        733     2/22/2018      3/5/2018             Transfer   \n",
       "719          710        742     2/22/2018     3/10/2018             Transfer   \n",
       "\n",
       "              Service PrimaryDiagnosis  ExpectedLOS  ExpectedMortality  \n",
       "0          Cardiology              AMI     9.646857           0.061540  \n",
       "1          Cardiology       Broken Leg     6.816558           0.628827  \n",
       "2          Cardiology   Kidney Failure     6.580273           0.573887  \n",
       "3          Cardiology             Afib    12.794536           0.222163  \n",
       "4          Cardiology       Broken Leg     2.639297           0.055468  \n",
       "..                ...              ...          ...                ...  \n",
       "715               ICU    Heart Failure    11.362095           0.370695  \n",
       "716               ICU    Heart Failure    10.262312           0.812930  \n",
       "717  General Medicine        Pneumonia     6.036234           0.094128  \n",
       "718               ICU    Heart Failure    13.323413           0.490892  \n",
       "719  General Medicine         Diabetes     7.195441           0.286439  \n",
       "\n",
       "[720 rows x 9 columns]"
      ]
     },
     "execution_count": 17,
     "metadata": {},
     "output_type": "execute_result"
    }
   ],
   "source": [
    "import pandas as pd\n",
    "import seaborn as sns\n",
    "import matplotlib.pyplot as plt\n",
    "%matplotlib inline\n",
    "df=pd.read_csv('HospitalDatabase-Discharges.csv')\n",
    "df"
   ]
  },
  {
   "cell_type": "code",
   "execution_count": 18,
   "id": "560c0ab8",
   "metadata": {},
   "outputs": [
    {
     "data": {
      "text/plain": [
       "<AxesSubplot:xlabel='Service', ylabel='PrimaryDiagnosis'>"
      ]
     },
     "execution_count": 18,
     "metadata": {},
     "output_type": "execute_result"
    },
    {
     "data": {
      "image/png": "[encoded data removed]",
      "text/plain": [
       "<Figure size 432x288 with 1 Axes>"
      ]
     },
     "metadata": {
      "needs_background": "light"
     },
     "output_type": "display_data"
    }
   ],
   "source": [
    "sns.scatterplot(data=df,x='Service',y='PrimaryDiagnosis')"
   ]
  },
  {
   "cell_type": "markdown",
   "id": "ae34ccea",
   "metadata": {},
   "source": [
    "# 44Create a pivot table displaying average LOS based on Service and Primary Diagnosis.\n"
   ]
  },
  {
   "cell_type": "code",
   "execution_count": 19,
   "id": "6d44dcee",
   "metadata": {},
   "outputs": [
    {
     "data": {
      "text/html": [
       "<div>\n",
       "<style scoped>\n",
       "    .dataframe tbody tr th:only-of-type {\n",
       "        vertical-align: middle;\n",
       "    }\n",
       "\n",
       "    .dataframe tbody tr th {\n",
       "        vertical-align: top;\n",
       "    }\n",
       "\n",
       "    .dataframe thead th {\n",
       "        text-align: right;\n",
       "    }\n",
       "</style>\n",
       "<table border=\"1\" class=\"dataframe\">\n",
       "  <thead>\n",
       "    <tr style=\"text-align: right;\">\n",
       "      <th></th>\n",
       "      <th>ExpectedLOS</th>\n",
       "    </tr>\n",
       "    <tr>\n",
       "      <th>AdmissionID</th>\n",
       "      <th></th>\n",
       "    </tr>\n",
       "  </thead>\n",
       "  <tbody>\n",
       "    <tr>\n",
       "      <th>1</th>\n",
       "      <td>9.646857</td>\n",
       "    </tr>\n",
       "    <tr>\n",
       "      <th>2</th>\n",
       "      <td>7.985315</td>\n",
       "    </tr>\n",
       "    <tr>\n",
       "      <th>3</th>\n",
       "      <td>6.296518</td>\n",
       "    </tr>\n",
       "    <tr>\n",
       "      <th>4</th>\n",
       "      <td>5.342352</td>\n",
       "    </tr>\n",
       "    <tr>\n",
       "      <th>5</th>\n",
       "      <td>7.247169</td>\n",
       "    </tr>\n",
       "    <tr>\n",
       "      <th>...</th>\n",
       "      <td>...</td>\n",
       "    </tr>\n",
       "    <tr>\n",
       "      <th>717</th>\n",
       "      <td>11.981275</td>\n",
       "    </tr>\n",
       "    <tr>\n",
       "      <th>718</th>\n",
       "      <td>14.981831</td>\n",
       "    </tr>\n",
       "    <tr>\n",
       "      <th>719</th>\n",
       "      <td>12.513682</td>\n",
       "    </tr>\n",
       "    <tr>\n",
       "      <th>720</th>\n",
       "      <td>5.270810</td>\n",
       "    </tr>\n",
       "    <tr>\n",
       "      <th>All</th>\n",
       "      <td>8.633825</td>\n",
       "    </tr>\n",
       "  </tbody>\n",
       "</table>\n",
       "<p>721 rows × 1 columns</p>\n",
       "</div>"
      ],
      "text/plain": [
       "             ExpectedLOS\n",
       "AdmissionID             \n",
       "1               9.646857\n",
       "2               7.985315\n",
       "3               6.296518\n",
       "4               5.342352\n",
       "5               7.247169\n",
       "...                  ...\n",
       "717            11.981275\n",
       "718            14.981831\n",
       "719            12.513682\n",
       "720             5.270810\n",
       "All             8.633825\n",
       "\n",
       "[721 rows x 1 columns]"
      ]
     },
     "execution_count": 19,
     "metadata": {},
     "output_type": "execute_result"
    }
   ],
   "source": [
    "\n",
    "pd.pivot_table(df,index='AdmissionID',values='ExpectedLOS',aggfunc='median',margins=True)"
   ]
  },
  {
   "cell_type": "markdown",
   "id": "caae2215",
   "metadata": {},
   "source": [
    "# 43 Write a regular expression to find all the digits and numbers in the string."
   ]
  },
  {
   "cell_type": "code",
   "execution_count": 20,
   "id": "5b175ce5",
   "metadata": {},
   "outputs": [
    {
     "name": "stdout",
     "output_type": "stream",
     "text": [
      "['12', '89', '34']\n"
     ]
    }
   ],
   "source": [
    "import re\n",
    "\n",
    "string = 'hello 12 hi 89. Howdy 34'\n",
    "pattern = '\\d+'\n",
    "\n",
    "result = re.findall(pattern, string) \n",
    "print(result)"
   ]
  },
  {
   "cell_type": "markdown",
   "id": "73716d69",
   "metadata": {},
   "source": [
    "# 46 Write a code to split a sentence into words using regex."
   ]
  },
  {
   "cell_type": "code",
   "execution_count": 12,
   "id": "bc7df93a",
   "metadata": {},
   "outputs": [
    {
     "name": "stdout",
     "output_type": "stream",
     "text": [
      "['She', '', 'is', '', 'so', '', 'nice', '!']\n"
     ]
    }
   ],
   "source": [
    "import regex\n",
    "\n",
    "s = \"She is so nice!\"\n",
    "x = regex.split(r\"\\s+|\\b(?!^|$)\", s, flags=regex.VERSION1)\n",
    "\n",
    "print(x)"
   ]
  },
  {
   "cell_type": "markdown",
   "id": "c05c85fc",
   "metadata": {},
   "source": [
    "# 47 Using indexing , loc to retrieve the row with maximum BloodPressureSystolic."
   ]
  },
  {
   "cell_type": "code",
   "execution_count": 11,
   "id": "17031c5d",
   "metadata": {},
   "outputs": [
    {
     "data": {
      "text/plain": [
       "VisitID                            933\n",
       "PatientMRN                         884\n",
       "ProviderID                          27\n",
       "DateofVisit                  2/14/2019\n",
       "DateScheduled                1/22/2019\n",
       "VisitDepartmentID                   12\n",
       "VisitType                 Telemedicine\n",
       "BloodPressureSystolic            190.0\n",
       "BloodPressureDiastolic      143.989174\n",
       "Pulse                        74.976879\n",
       "VisitStatus                  Completed\n",
       "Name: 236, dtype: object"
      ]
     },
     "execution_count": 11,
     "metadata": {},
     "output_type": "execute_result"
    }
   ],
   "source": [
    "import pandas as pd\n",
    "import numpy as np\n",
    "df=pd.read_csv('HospitalDatabase-AmulateryVisit.csv')\n",
    "df.loc[df.BloodPressureSystolic.argmax()]\n",
    "\n"
   ]
  },
  {
   "cell_type": "markdown",
   "id": "be7809aa",
   "metadata": {},
   "source": [
    "\n",
    "\n"
   ]
  },
  {
   "cell_type": "markdown",
   "id": "5614685f",
   "metadata": {},
   "source": [
    "# 50 Which departmentID has maximum number of visits scheduled.\n",
    "\n",
    "\n"
   ]
  },
  {
   "cell_type": "code",
   "execution_count": 9,
   "id": "bed452cc",
   "metadata": {},
   "outputs": [
    {
     "data": {
      "text/plain": [
       "VisitID                            721\n",
       "PatientMRN                         873\n",
       "ProviderID                          11\n",
       "DateofVisit                  3/30/2019\n",
       "DateScheduled                3/17/2019\n",
       "VisitDepartmentID                   12\n",
       "VisitType                 Telemedicine\n",
       "BloodPressureSystolic            145.0\n",
       "BloodPressureDiastolic       96.075925\n",
       "Pulse                        87.591451\n",
       "VisitStatus                    No Show\n",
       "Name: 17, dtype: object"
      ]
     },
     "execution_count": 9,
     "metadata": {},
     "output_type": "execute_result"
    }
   ],
   "source": [
    "df.loc[df.VisitDepartmentID.argmax()]"
   ]
  },
  {
   "cell_type": "code",
   "execution_count": null,
   "id": "8a861d18",
   "metadata": {},
   "outputs": [],
   "source": []
  },
  {
   "cell_type": "markdown",
   "id": "15cc3b9d",
   "metadata": {},
   "source": [
    "# 55 Create a bar chart on service & expected length of stay."
   ]
  },
  {
   "cell_type": "code",
   "execution_count": 48,
   "id": "93dfa3bc",
   "metadata": {},
   "outputs": [
    {
     "data": {
      "text/plain": [
       "<AxesSubplot:xlabel='Service', ylabel='ExpectedLOS'>"
      ]
     },
     "execution_count": 48,
     "metadata": {},
     "output_type": "execute_result"
    },
    {
     "data": {
      "image/png": "[encoded data removed]",
      "text/plain": [
       "<Figure size 432x288 with 1 Axes>"
      ]
     },
     "metadata": {},
     "output_type": "display_data"
    }
   ],
   "source": [
    "\n",
    "import pandas as pd\n",
    "import seaborn as sns\n",
    "import matplotlib.pyplot as plt\n",
    "df=pd.read_csv('HospitalDatabase-Discharges.csv')\n",
    "sns.barplot(x='Service',y='ExpectedLOS',data=df)"
   ]
  },
  {
   "cell_type": "markdown",
   "id": "e08f4e61",
   "metadata": {},
   "source": [
    "# 49 Retrieve the rows where SBP<140 and DBP<80."
   ]
  },
  {
   "cell_type": "code",
   "execution_count": 8,
   "id": "51cfc8b4",
   "metadata": {},
   "outputs": [
    {
     "data": {
      "text/plain": [
       "0      False\n",
       "1      False\n",
       "2      False\n",
       "3      False\n",
       "4      False\n",
       "       ...  \n",
       "945    False\n",
       "946    False\n",
       "947    False\n",
       "948    False\n",
       "949    False\n",
       "Name: BloodPressureDiastolic, Length: 950, dtype: bool"
      ]
     },
     "execution_count": 8,
     "metadata": {},
     "output_type": "execute_result"
    }
   ],
   "source": [
    "import pandas as pd\n",
    "import numpy as np\n",
    "df=pd.read_csv('HospitalDatabase-AmulateryVisit.csv')\n",
    "df['BloodPressureDiastolic']<80"
   ]
  },
  {
   "cell_type": "code",
   "execution_count": 10,
   "id": "23fc432a",
   "metadata": {},
   "outputs": [
    {
     "data": {
      "text/plain": [
       "0      False\n",
       "1      False\n",
       "2      False\n",
       "3      False\n",
       "4      False\n",
       "       ...  \n",
       "945    False\n",
       "946    False\n",
       "947    False\n",
       "948    False\n",
       "949    False\n",
       "Name: BloodPressureDiastolic, Length: 950, dtype: bool"
      ]
     },
     "execution_count": 10,
     "metadata": {},
     "output_type": "execute_result"
    }
   ],
   "source": [
    "#Retrieve the rows where DBP<80\n",
    "import pandas as pd\n",
    "df=pd.read_csv('HospitalDatabase-AmulateryVisit.csv')\n",
    "df['BloodPressureDiastolic']<80"
   ]
  },
  {
   "cell_type": "markdown",
   "id": "44802aee",
   "metadata": {},
   "source": [
    "# Retrieve the rows where SBP<140\n"
   ]
  },
  {
   "cell_type": "code",
   "execution_count": 17,
   "id": "4d704106",
   "metadata": {},
   "outputs": [
    {
     "data": {
      "text/plain": [
       "0      False\n",
       "1      False\n",
       "2       True\n",
       "3       True\n",
       "4       True\n",
       "       ...  \n",
       "945    False\n",
       "946    False\n",
       "947    False\n",
       "948    False\n",
       "949    False\n",
       "Name: BloodPressureSystolic, Length: 950, dtype: bool"
      ]
     },
     "execution_count": 17,
     "metadata": {},
     "output_type": "execute_result"
    }
   ],
   "source": [
    "df['BloodPressureSystolic']<140"
   ]
  },
  {
   "cell_type": "code",
   "execution_count": 13,
   "id": "3647d130",
   "metadata": {},
   "outputs": [],
   "source": []
  },
  {
   "cell_type": "code",
   "execution_count": null,
   "id": "27c42018",
   "metadata": {},
   "outputs": [],
   "source": []
  },
  {
   "cell_type": "code",
   "execution_count": null,
   "id": "da09eb7d",
   "metadata": {},
   "outputs": [],
   "source": []
  }
 ],
 "metadata": {
  "kernelspec": {
   "display_name": "Python 3 (ipykernel)",
   "language": "python",
   "name": "python3"
  },
  "language_info": {
   "codemirror_mode": {
    "name": "ipython",
    "version": 3
   },
   "file_extension": ".py",
   "mimetype": "text/x-python",
   "name": "python",
   "nbconvert_exporter": "python",
   "pygments_lexer": "ipython3",
   "version": "3.10.5"
  }
 },
 "nbformat": 4,
 "nbformat_minor": 5
}
